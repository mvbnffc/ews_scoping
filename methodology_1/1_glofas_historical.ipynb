{
 "cells": [
  {
   "cell_type": "markdown",
   "id": "fa4004a8-88d7-469f-8cde-732754bcdd72",
   "metadata": {},
   "source": [
    "### Description: In this script we will be visualizing some historical flood events (2020 and 2024) in Kenya using GloFAS historical reanalysis discharge data. "
   ]
  },
  {
   "cell_type": "markdown",
   "id": "eac6da25-a93e-4b5a-9fa9-84291050b96b",
   "metadata": {},
   "source": [
    "###### Code is adapted from the following tutorial https://ecmwf-projects.github.io/copernicus-training-c3s/glofas-bangladesh-floods.html#setup-your-environment"
   ]
  },
  {
   "cell_type": "markdown",
   "id": "7b792ef8-e04e-4b21-909c-d215ed1f86c3",
   "metadata": {},
   "source": [
    "#### Step 1: Import Libraries"
   ]
  },
  {
   "cell_type": "code",
   "execution_count": 1,
   "id": "94c8caed-b10f-4b74-a9c5-475a4427baf4",
   "metadata": {},
   "outputs": [],
   "source": [
    "import os\n",
    "import cdsapi\n",
    "import numpy as np\n",
    "import xarray as xr\n",
    "import matplotlib.pyplot as plt\n",
    "import cartopy.crs as ccrs\n",
    "import cartopy.feature as cfeature\n",
    "import urllib3\n",
    "urllib3.disable_warnings() # disable API download warnings\n",
    "import warnings\n",
    "warnings.simplefilter(\"ignore\", category=RuntimeWarning) # disable xarray runtime warnings"
   ]
  },
  {
   "cell_type": "markdown",
   "id": "b71b8700-0c62-4fc8-ad21-fcd2dcbca84d",
   "metadata": {},
   "source": [
    "#### Step 2: Set Data Directory "
   ]
  },
  {
   "cell_type": "code",
   "execution_count": 2,
   "id": "e4e6538c-0dd9-4456-874f-f4926229da08",
   "metadata": {},
   "outputs": [],
   "source": [
    "DATADIR = os.path.join(os.pardir, 'data', 'methodology_1')\n",
    "os.makedirs(DATADIR, exist_ok=True)"
   ]
  },
  {
   "cell_type": "markdown",
   "id": "b630838e-3d60-44a0-b0a3-368e7872ce8c",
   "metadata": {},
   "source": [
    "#### Step 3: Download GloFAS data for Kenya"
   ]
  },
  {
   "cell_type": "code",
   "execution_count": 3,
   "id": "592c135e-0580-4561-b072-c9ff39f3e36e",
   "metadata": {},
   "outputs": [],
   "source": [
    "# Set bounding box for Kenya (from  https://gist.github.com/graydon/11198540)\n",
    "kenya_bbox = [5.5, 33.9, -4.7, 41.2]"
   ]
  },
  {
   "cell_type": "code",
   "execution_count": 5,
   "id": "981be9b5-1e21-42f2-8348-c4c7cd1ec996",
   "metadata": {},
   "outputs": [
    {
     "name": "stderr",
     "output_type": "stream",
     "text": [
      "2025-03-13 12:20:06,576 INFO [2024-09-26T00:00:00] Watch our [Forum]( https://forum.ecmwf.int/) for Announcements, news and other discussed topics.\n",
      "2025-03-13 12:20:06,778 INFO [2024-02-01T00:00:00] Please note that accessing this dataset via CDS for time-critical operation is not advised or supported\n",
      "2025-03-13 12:20:06,779 INFO [2024-02-01T00:00:00] Please note we suggest checking the list of known issues on the GloFAS wiki\n",
      "[here](https://confluence.ecmwf.int/display/CEMS/GloFAS+-+Known+Issues)\n",
      "before downloading the dataset.\n",
      "2025-03-13 12:20:06,780 INFO Request ID is 75dd7e6e-4f17-4bdf-8d26-d9e7f83f44f4\n",
      "2025-03-13 12:20:06,878 INFO status has been updated to accepted\n",
      "2025-03-13 12:20:21,173 INFO status has been updated to running\n",
      "2025-03-13 12:26:26,633 INFO status has been updated to successful\n"
     ]
    },
    {
     "data": {
      "application/vnd.jupyter.widget-view+json": {
       "model_id": "d7f5eaea8c07444b96118ffe19373eda",
       "version_major": 2,
       "version_minor": 0
      },
      "text/plain": [
       "5d2140b10cba50f8744d789b8ed29bde.grib:   0%|          | 0.00/31.3M [00:00<?, ?B/s]"
      ]
     },
     "metadata": {},
     "output_type": "display_data"
    },
    {
     "name": "stderr",
     "output_type": "stream",
     "text": [
      "2025-03-13 12:26:33,377 INFO [2024-09-26T00:00:00] Watch our [Forum]( https://forum.ecmwf.int/) for Announcements, news and other discussed topics.\n",
      "2025-03-13 12:26:33,600 INFO [2024-02-01T00:00:00] Please note that accessing this dataset via CDS for time-critical operation is not advised or supported\n",
      "2025-03-13 12:26:33,601 INFO [2024-02-01T00:00:00] Please note we suggest checking the list of known issues on the GloFAS wiki\n",
      "[here](https://confluence.ecmwf.int/display/CEMS/GloFAS+-+Known+Issues)\n",
      "before downloading the dataset.\n",
      "2025-03-13 12:26:33,602 INFO Request ID is 1ddf2a9e-6c9f-417f-a000-256cc2d9e44a\n",
      "2025-03-13 12:26:33,696 INFO status has been updated to accepted\n",
      "2025-03-13 12:26:38,743 INFO status has been updated to running\n",
      "2025-03-13 12:32:57,968 INFO status has been updated to successful\n"
     ]
    },
    {
     "data": {
      "application/vnd.jupyter.widget-view+json": {
       "model_id": "21f609ecef2140098e200e69a191e93b",
       "version_major": 2,
       "version_minor": 0
      },
      "text/plain": [
       "4e8c8e7184ed7785c87ecc736ead5ef4.grib:   0%|          | 0.00/31.3M [00:00<?, ?B/s]"
      ]
     },
     "metadata": {},
     "output_type": "display_data"
    },
    {
     "name": "stderr",
     "output_type": "stream",
     "text": [
      "2025-03-13 12:33:00,747 INFO [2024-09-26T00:00:00] Watch our [Forum]( https://forum.ecmwf.int/) for Announcements, news and other discussed topics.\n",
      "2025-03-13 12:33:01,053 INFO [2024-02-01T00:00:00] Please note that accessing this dataset via CDS for time-critical operation is not advised or supported\n",
      "2025-03-13 12:33:01,054 INFO [2024-02-01T00:00:00] Please note we suggest checking the list of known issues on the GloFAS wiki\n",
      "[here](https://confluence.ecmwf.int/display/CEMS/GloFAS+-+Known+Issues)\n",
      "before downloading the dataset.\n",
      "2025-03-13 12:33:01,054 INFO Request ID is 190a945c-93d5-45b6-9d16-188e465ef8aa\n",
      "2025-03-13 12:33:03,180 INFO status has been updated to accepted\n",
      "2025-03-13 12:33:11,701 INFO status has been updated to running\n",
      "2025-03-13 12:37:22,148 INFO status has been updated to successful\n"
     ]
    },
    {
     "data": {
      "application/vnd.jupyter.widget-view+json": {
       "model_id": "0e62194e7bbc447d8ceaa07d654838ea",
       "version_major": 2,
       "version_minor": 0
      },
      "text/plain": [
       "bd9c3027132f25256ad58701985a69ec.grib:   0%|          | 0.00/31.3M [00:00<?, ?B/s]"
      ]
     },
     "metadata": {},
     "output_type": "display_data"
    },
    {
     "name": "stderr",
     "output_type": "stream",
     "text": [
      "2025-03-13 12:37:25,898 INFO [2024-09-26T00:00:00] Watch our [Forum]( https://forum.ecmwf.int/) for Announcements, news and other discussed topics.\n",
      "2025-03-13 12:37:26,100 INFO [2024-02-01T00:00:00] Please note that accessing this dataset via CDS for time-critical operation is not advised or supported\n",
      "2025-03-13 12:37:26,101 INFO [2024-02-01T00:00:00] Please note we suggest checking the list of known issues on the GloFAS wiki\n",
      "[here](https://confluence.ecmwf.int/display/CEMS/GloFAS+-+Known+Issues)\n",
      "before downloading the dataset.\n",
      "2025-03-13 12:37:26,102 INFO Request ID is ba560d97-640f-4b85-9df3-3800aa3fae59\n",
      "2025-03-13 12:37:26,197 INFO status has been updated to accepted\n",
      "2025-03-13 12:38:16,172 INFO status has been updated to running\n",
      "2025-03-13 12:41:45,074 INFO status has been updated to successful\n"
     ]
    },
    {
     "data": {
      "application/vnd.jupyter.widget-view+json": {
       "model_id": "76a862fec5df482ba7328613f4911c7f",
       "version_major": 2,
       "version_minor": 0
      },
      "text/plain": [
       "18b4daea53106f75cb0843951cd15d1e.grib:   0%|          | 0.00/31.3M [00:00<?, ?B/s]"
      ]
     },
     "metadata": {},
     "output_type": "display_data"
    },
    {
     "name": "stderr",
     "output_type": "stream",
     "text": [
      "2025-03-13 12:41:47,991 INFO [2024-09-26T00:00:00] Watch our [Forum]( https://forum.ecmwf.int/) for Announcements, news and other discussed topics.\n",
      "2025-03-13 12:41:49,797 INFO [2024-02-01T00:00:00] Please note that accessing this dataset via CDS for time-critical operation is not advised or supported\n",
      "2025-03-13 12:41:49,797 INFO [2024-02-01T00:00:00] Please note we suggest checking the list of known issues on the GloFAS wiki\n",
      "[here](https://confluence.ecmwf.int/display/CEMS/GloFAS+-+Known+Issues)\n",
      "before downloading the dataset.\n",
      "2025-03-13 12:41:49,798 INFO Request ID is cda63b70-68b9-4739-9a23-ef4078b68708\n",
      "2025-03-13 12:41:49,874 INFO status has been updated to accepted\n",
      "2025-03-13 12:41:54,901 INFO status has been updated to running\n",
      "2025-03-13 12:46:08,803 INFO status has been updated to successful\n"
     ]
    },
    {
     "data": {
      "application/vnd.jupyter.widget-view+json": {
       "model_id": "133df879180f41e48b82aff3ca0aa79d",
       "version_major": 2,
       "version_minor": 0
      },
      "text/plain": [
       "efa2165e8b73a03cbfae4789ccb61b53.grib:   0%|          | 0.00/31.3M [00:00<?, ?B/s]"
      ]
     },
     "metadata": {},
     "output_type": "display_data"
    },
    {
     "name": "stderr",
     "output_type": "stream",
     "text": [
      "2025-03-13 12:46:12,814 INFO [2024-09-26T00:00:00] Watch our [Forum]( https://forum.ecmwf.int/) for Announcements, news and other discussed topics.\n",
      "2025-03-13 12:46:13,096 INFO [2024-02-01T00:00:00] Please note that accessing this dataset via CDS for time-critical operation is not advised or supported\n",
      "2025-03-13 12:46:13,097 INFO [2024-02-01T00:00:00] Please note we suggest checking the list of known issues on the GloFAS wiki\n",
      "[here](https://confluence.ecmwf.int/display/CEMS/GloFAS+-+Known+Issues)\n",
      "before downloading the dataset.\n",
      "2025-03-13 12:46:13,098 INFO Request ID is b774c6a4-8a13-4dc5-8321-79c1624f10a0\n",
      "2025-03-13 12:46:13,183 INFO status has been updated to accepted\n",
      "2025-03-13 12:46:21,666 INFO status has been updated to running\n",
      "2025-03-13 12:50:32,331 INFO status has been updated to successful\n"
     ]
    },
    {
     "data": {
      "application/vnd.jupyter.widget-view+json": {
       "model_id": "4b170b2730eb49f9921a3c367b11b060",
       "version_major": 2,
       "version_minor": 0
      },
      "text/plain": [
       "c79cbf3468a184a0ca24cf970bcc0b90.grib:   0%|          | 0.00/31.3M [00:00<?, ?B/s]"
      ]
     },
     "metadata": {},
     "output_type": "display_data"
    },
    {
     "name": "stderr",
     "output_type": "stream",
     "text": [
      "2025-03-13 12:50:36,827 INFO [2024-09-26T00:00:00] Watch our [Forum]( https://forum.ecmwf.int/) for Announcements, news and other discussed topics.\n",
      "2025-03-13 12:50:37,055 INFO [2024-02-01T00:00:00] Please note that accessing this dataset via CDS for time-critical operation is not advised or supported\n",
      "2025-03-13 12:50:37,055 INFO [2024-02-01T00:00:00] Please note we suggest checking the list of known issues on the GloFAS wiki\n",
      "[here](https://confluence.ecmwf.int/display/CEMS/GloFAS+-+Known+Issues)\n",
      "before downloading the dataset.\n",
      "2025-03-13 12:50:37,056 INFO Request ID is ed012925-5ee5-4ff6-ad1f-578f49c18d3f\n",
      "2025-03-13 12:50:37,142 INFO status has been updated to accepted\n",
      "2025-03-13 12:51:10,101 INFO status has been updated to running\n",
      "2025-03-13 12:54:56,157 INFO status has been updated to successful\n"
     ]
    },
    {
     "data": {
      "application/vnd.jupyter.widget-view+json": {
       "model_id": "2dfe86237ba6463294d15e4f77f538b2",
       "version_major": 2,
       "version_minor": 0
      },
      "text/plain": [
       "96f15f8c957638247cd09a027e739356.grib:   0%|          | 0.00/31.3M [00:00<?, ?B/s]"
      ]
     },
     "metadata": {},
     "output_type": "display_data"
    },
    {
     "name": "stderr",
     "output_type": "stream",
     "text": [
      "2025-03-13 12:55:03,349 INFO [2024-09-26T00:00:00] Watch our [Forum]( https://forum.ecmwf.int/) for Announcements, news and other discussed topics.\n",
      "2025-03-13 12:55:03,549 INFO [2024-02-01T00:00:00] Please note that accessing this dataset via CDS for time-critical operation is not advised or supported\n",
      "2025-03-13 12:55:03,550 INFO [2024-02-01T00:00:00] Please note we suggest checking the list of known issues on the GloFAS wiki\n",
      "[here](https://confluence.ecmwf.int/display/CEMS/GloFAS+-+Known+Issues)\n",
      "before downloading the dataset.\n",
      "2025-03-13 12:55:03,551 INFO Request ID is b252dc27-f6ba-40dc-a98a-af4f5f3c7b27\n",
      "2025-03-13 12:55:03,625 INFO status has been updated to accepted\n",
      "2025-03-13 12:55:53,694 INFO status has been updated to running\n",
      "2025-03-13 12:59:22,622 INFO status has been updated to successful\n"
     ]
    },
    {
     "data": {
      "application/vnd.jupyter.widget-view+json": {
       "model_id": "7cf2111ceba84404a5313c057cef93bc",
       "version_major": 2,
       "version_minor": 0
      },
      "text/plain": [
       "34edaefce829025a8f6415dabdea6cf.grib:   0%|          | 0.00/31.3M [00:00<?, ?B/s]"
      ]
     },
     "metadata": {},
     "output_type": "display_data"
    },
    {
     "name": "stderr",
     "output_type": "stream",
     "text": [
      "2025-03-13 12:59:26,612 INFO [2024-09-26T00:00:00] Watch our [Forum]( https://forum.ecmwf.int/) for Announcements, news and other discussed topics.\n",
      "2025-03-13 12:59:26,998 INFO [2024-02-01T00:00:00] Please note that accessing this dataset via CDS for time-critical operation is not advised or supported\n",
      "2025-03-13 12:59:26,999 INFO [2024-02-01T00:00:00] Please note we suggest checking the list of known issues on the GloFAS wiki\n",
      "[here](https://confluence.ecmwf.int/display/CEMS/GloFAS+-+Known+Issues)\n",
      "before downloading the dataset.\n",
      "2025-03-13 12:59:27,000 INFO Request ID is 83f092f9-80be-4283-b7be-bde3eb851cea\n",
      "2025-03-13 12:59:27,083 INFO status has been updated to accepted\n",
      "2025-03-13 12:59:35,542 INFO status has been updated to running\n",
      "2025-03-13 13:03:45,819 INFO status has been updated to successful\n"
     ]
    },
    {
     "data": {
      "application/vnd.jupyter.widget-view+json": {
       "model_id": "3c4f909a18294e81bfd3d8069235e6d4",
       "version_major": 2,
       "version_minor": 0
      },
      "text/plain": [
       "7b061c5c92fc81283333e7dd4d27e1dc.grib:   0%|          | 0.00/31.3M [00:00<?, ?B/s]"
      ]
     },
     "metadata": {},
     "output_type": "display_data"
    },
    {
     "name": "stderr",
     "output_type": "stream",
     "text": [
      "2025-03-13 13:03:48,796 INFO [2024-09-26T00:00:00] Watch our [Forum]( https://forum.ecmwf.int/) for Announcements, news and other discussed topics.\n",
      "2025-03-13 13:03:48,998 INFO [2024-02-01T00:00:00] Please note that accessing this dataset via CDS for time-critical operation is not advised or supported\n",
      "2025-03-13 13:03:48,999 INFO [2024-02-01T00:00:00] Please note we suggest checking the list of known issues on the GloFAS wiki\n",
      "[here](https://confluence.ecmwf.int/display/CEMS/GloFAS+-+Known+Issues)\n",
      "before downloading the dataset.\n",
      "2025-03-13 13:03:49,000 INFO Request ID is 54d3d032-5d55-48e2-a791-8bd927db414c\n",
      "2025-03-13 13:03:49,094 INFO status has been updated to accepted\n",
      "2025-03-13 13:03:54,140 INFO status has been updated to running\n",
      "2025-03-13 13:12:08,423 INFO status has been updated to successful\n"
     ]
    },
    {
     "data": {
      "application/vnd.jupyter.widget-view+json": {
       "model_id": "8588729bca364f38be58562460755320",
       "version_major": 2,
       "version_minor": 0
      },
      "text/plain": [
       "2f55f0a973a91782d905cbf710c93463.grib:   0%|          | 0.00/31.3M [00:00<?, ?B/s]"
      ]
     },
     "metadata": {},
     "output_type": "display_data"
    },
    {
     "name": "stderr",
     "output_type": "stream",
     "text": [
      "2025-03-13 13:12:15,135 INFO [2024-09-26T00:00:00] Watch our [Forum]( https://forum.ecmwf.int/) for Announcements, news and other discussed topics.\n",
      "2025-03-13 13:12:15,373 INFO [2024-02-01T00:00:00] Please note that accessing this dataset via CDS for time-critical operation is not advised or supported\n",
      "2025-03-13 13:12:15,373 INFO [2024-02-01T00:00:00] Please note we suggest checking the list of known issues on the GloFAS wiki\n",
      "[here](https://confluence.ecmwf.int/display/CEMS/GloFAS+-+Known+Issues)\n",
      "before downloading the dataset.\n",
      "2025-03-13 13:12:15,374 INFO Request ID is 41f0d48d-e9db-44f7-a218-64d85c325a1c\n",
      "2025-03-13 13:12:15,462 INFO status has been updated to accepted\n",
      "2025-03-13 13:12:24,166 INFO status has been updated to running\n",
      "2025-03-13 13:16:34,530 INFO status has been updated to successful\n"
     ]
    },
    {
     "data": {
      "application/vnd.jupyter.widget-view+json": {
       "model_id": "49a26a20f4c9416f82c72fa1653f5b47",
       "version_major": 2,
       "version_minor": 0
      },
      "text/plain": [
       "59cc2efa742cbf9b3fb9daf587b84771.grib:   0%|          | 0.00/31.3M [00:00<?, ?B/s]"
      ]
     },
     "metadata": {},
     "output_type": "display_data"
    },
    {
     "name": "stderr",
     "output_type": "stream",
     "text": [
      "2025-03-13 13:16:38,654 INFO [2024-09-26T00:00:00] Watch our [Forum]( https://forum.ecmwf.int/) for Announcements, news and other discussed topics.\n",
      "2025-03-13 13:16:38,850 INFO [2024-02-01T00:00:00] Please note that accessing this dataset via CDS for time-critical operation is not advised or supported\n",
      "2025-03-13 13:16:38,851 INFO [2024-02-01T00:00:00] Please note we suggest checking the list of known issues on the GloFAS wiki\n",
      "[here](https://confluence.ecmwf.int/display/CEMS/GloFAS+-+Known+Issues)\n",
      "before downloading the dataset.\n",
      "2025-03-13 13:16:38,851 INFO Request ID is 83a6cfd4-d2ba-4693-ab86-d8b52673979e\n",
      "2025-03-13 13:16:38,930 INFO status has been updated to accepted\n",
      "2025-03-13 13:17:28,889 INFO status has been updated to running\n",
      "2025-03-13 13:20:57,821 INFO status has been updated to successful\n"
     ]
    },
    {
     "data": {
      "application/vnd.jupyter.widget-view+json": {
       "model_id": "47b2ddc63a53429190fa976efc43deae",
       "version_major": 2,
       "version_minor": 0
      },
      "text/plain": [
       "3c67e0d5d014e6794ebeca725faef23a.grib:   0%|          | 0.00/31.3M [00:00<?, ?B/s]"
      ]
     },
     "metadata": {},
     "output_type": "display_data"
    },
    {
     "name": "stderr",
     "output_type": "stream",
     "text": [
      "2025-03-13 13:21:01,487 INFO [2024-09-26T00:00:00] Watch our [Forum]( https://forum.ecmwf.int/) for Announcements, news and other discussed topics.\n",
      "2025-03-13 13:21:01,747 INFO [2024-02-01T00:00:00] Please note that accessing this dataset via CDS for time-critical operation is not advised or supported\n",
      "2025-03-13 13:21:01,749 INFO [2024-02-01T00:00:00] Please note we suggest checking the list of known issues on the GloFAS wiki\n",
      "[here](https://confluence.ecmwf.int/display/CEMS/GloFAS+-+Known+Issues)\n",
      "before downloading the dataset.\n",
      "2025-03-13 13:21:01,749 INFO Request ID is b7fe8255-4640-4a71-9e92-50cc1fea95fb\n",
      "2025-03-13 13:21:01,858 INFO status has been updated to accepted\n",
      "2025-03-13 13:21:15,473 INFO status has been updated to running\n",
      "2025-03-13 13:27:20,902 INFO status has been updated to successful\n"
     ]
    },
    {
     "data": {
      "application/vnd.jupyter.widget-view+json": {
       "model_id": "491cf46f71a848bcbd74b53137992d6f",
       "version_major": 2,
       "version_minor": 0
      },
      "text/plain": [
       "cd0a5d2de725da05fa356f9fe766be7d.grib:   0%|          | 0.00/31.3M [00:00<?, ?B/s]"
      ]
     },
     "metadata": {},
     "output_type": "display_data"
    },
    {
     "name": "stderr",
     "output_type": "stream",
     "text": [
      "2025-03-13 13:27:23,868 INFO [2024-09-26T00:00:00] Watch our [Forum]( https://forum.ecmwf.int/) for Announcements, news and other discussed topics.\n",
      "2025-03-13 13:27:24,147 INFO [2024-02-01T00:00:00] Please note that accessing this dataset via CDS for time-critical operation is not advised or supported\n",
      "2025-03-13 13:27:24,148 INFO [2024-02-01T00:00:00] Please note we suggest checking the list of known issues on the GloFAS wiki\n",
      "[here](https://confluence.ecmwf.int/display/CEMS/GloFAS+-+Known+Issues)\n",
      "before downloading the dataset.\n",
      "2025-03-13 13:27:24,149 INFO Request ID is deb80c66-dd73-49c7-959d-84bade4949ed\n",
      "2025-03-13 13:27:24,399 INFO status has been updated to accepted\n",
      "2025-03-13 13:27:29,383 INFO status has been updated to running\n",
      "2025-03-13 13:35:43,952 INFO status has been updated to successful\n"
     ]
    },
    {
     "data": {
      "application/vnd.jupyter.widget-view+json": {
       "model_id": "d0b8bdc38597462da2defe70e3f5cf4d",
       "version_major": 2,
       "version_minor": 0
      },
      "text/plain": [
       "5832efe3c4dd91258c0a80a341cda8a0.grib:   0%|          | 0.00/31.3M [00:00<?, ?B/s]"
      ]
     },
     "metadata": {},
     "output_type": "display_data"
    },
    {
     "name": "stderr",
     "output_type": "stream",
     "text": [
      "2025-03-13 13:35:46,826 INFO [2024-09-26T00:00:00] Watch our [Forum]( https://forum.ecmwf.int/) for Announcements, news and other discussed topics.\n",
      "2025-03-13 13:35:47,040 INFO [2024-02-01T00:00:00] Please note that accessing this dataset via CDS for time-critical operation is not advised or supported\n",
      "2025-03-13 13:35:47,041 INFO [2024-02-01T00:00:00] Please note we suggest checking the list of known issues on the GloFAS wiki\n",
      "[here](https://confluence.ecmwf.int/display/CEMS/GloFAS+-+Known+Issues)\n",
      "before downloading the dataset.\n",
      "2025-03-13 13:35:47,042 INFO Request ID is c019012e-9890-41bd-acfd-91c23ef23523\n",
      "2025-03-13 13:35:47,122 INFO status has been updated to accepted\n",
      "2025-03-13 13:36:00,733 INFO status has been updated to running\n",
      "2025-03-13 13:40:05,917 INFO status has been updated to successful\n"
     ]
    },
    {
     "data": {
      "application/vnd.jupyter.widget-view+json": {
       "model_id": "603cac227703437ca12c10a0da7fa650",
       "version_major": 2,
       "version_minor": 0
      },
      "text/plain": [
       "dfcf4f8baffeeedad2786f5b5b233714.grib:   0%|          | 0.00/31.3M [00:00<?, ?B/s]"
      ]
     },
     "metadata": {},
     "output_type": "display_data"
    },
    {
     "name": "stderr",
     "output_type": "stream",
     "text": [
      "2025-03-13 13:40:08,697 INFO [2024-09-26T00:00:00] Watch our [Forum]( https://forum.ecmwf.int/) for Announcements, news and other discussed topics.\n",
      "2025-03-13 13:40:09,043 INFO [2024-02-01T00:00:00] Please note that accessing this dataset via CDS for time-critical operation is not advised or supported\n",
      "2025-03-13 13:40:09,044 INFO [2024-02-01T00:00:00] Please note we suggest checking the list of known issues on the GloFAS wiki\n",
      "[here](https://confluence.ecmwf.int/display/CEMS/GloFAS+-+Known+Issues)\n",
      "before downloading the dataset.\n",
      "2025-03-13 13:40:09,045 INFO Request ID is 656b1928-9200-4fa0-8b32-b3cb0729d8ef\n",
      "2025-03-13 13:40:09,140 INFO status has been updated to accepted\n",
      "2025-03-13 13:40:22,784 INFO status has been updated to running\n",
      "2025-03-13 13:44:27,982 INFO status has been updated to successful\n"
     ]
    },
    {
     "data": {
      "application/vnd.jupyter.widget-view+json": {
       "model_id": "a321bcda870f469e9bcd0188521f7ef2",
       "version_major": 2,
       "version_minor": 0
      },
      "text/plain": [
       "7336d9bc0ae902f052a949c1a49a151d.grib:   0%|          | 0.00/31.3M [00:00<?, ?B/s]"
      ]
     },
     "metadata": {},
     "output_type": "display_data"
    },
    {
     "name": "stderr",
     "output_type": "stream",
     "text": [
      "2025-03-13 13:44:30,841 INFO [2024-09-26T00:00:00] Watch our [Forum]( https://forum.ecmwf.int/) for Announcements, news and other discussed topics.\n",
      "2025-03-13 13:44:31,064 INFO [2024-02-01T00:00:00] Please note that accessing this dataset via CDS for time-critical operation is not advised or supported\n",
      "2025-03-13 13:44:31,065 INFO [2024-02-01T00:00:00] Please note we suggest checking the list of known issues on the GloFAS wiki\n",
      "[here](https://confluence.ecmwf.int/display/CEMS/GloFAS+-+Known+Issues)\n",
      "before downloading the dataset.\n",
      "2025-03-13 13:44:31,066 INFO Request ID is 3054b9cd-8e31-42d1-9441-f386ed0ee7fe\n",
      "2025-03-13 13:44:31,163 INFO status has been updated to accepted\n",
      "2025-03-13 13:44:44,785 INFO status has been updated to running\n",
      "2025-03-13 13:48:49,979 INFO status has been updated to successful\n"
     ]
    },
    {
     "data": {
      "application/vnd.jupyter.widget-view+json": {
       "model_id": "134fcb6896704bc7be1879df3b8794d6",
       "version_major": 2,
       "version_minor": 0
      },
      "text/plain": [
       "5dc2c3e9c9f6736cf2226e5ca63c4b4c.grib:   0%|          | 0.00/31.3M [00:00<?, ?B/s]"
      ]
     },
     "metadata": {},
     "output_type": "display_data"
    },
    {
     "name": "stderr",
     "output_type": "stream",
     "text": [
      "2025-03-13 13:48:55,279 INFO [2024-09-26T00:00:00] Watch our [Forum]( https://forum.ecmwf.int/) for Announcements, news and other discussed topics.\n",
      "2025-03-13 13:48:55,495 INFO [2024-02-01T00:00:00] Please note that accessing this dataset via CDS for time-critical operation is not advised or supported\n",
      "2025-03-13 13:48:55,496 INFO [2024-02-01T00:00:00] Please note we suggest checking the list of known issues on the GloFAS wiki\n",
      "[here](https://confluence.ecmwf.int/display/CEMS/GloFAS+-+Known+Issues)\n",
      "before downloading the dataset.\n",
      "2025-03-13 13:48:55,497 INFO Request ID is 068357d3-f5b2-4246-b408-2f4c7ae80b14\n",
      "2025-03-13 13:48:55,577 INFO status has been updated to accepted\n",
      "2025-03-13 13:49:04,067 INFO status has been updated to running\n",
      "2025-03-13 13:53:15,492 INFO status has been updated to successful\n"
     ]
    },
    {
     "data": {
      "application/vnd.jupyter.widget-view+json": {
       "model_id": "0c45752b87d2416890cfd2c14f61ed9f",
       "version_major": 2,
       "version_minor": 0
      },
      "text/plain": [
       "4aa07dd8ea93a1339bee17661d3ee72d.grib:   0%|          | 0.00/31.3M [00:00<?, ?B/s]"
      ]
     },
     "metadata": {},
     "output_type": "display_data"
    },
    {
     "name": "stderr",
     "output_type": "stream",
     "text": [
      "2025-03-13 13:53:18,874 INFO [2024-09-26T00:00:00] Watch our [Forum]( https://forum.ecmwf.int/) for Announcements, news and other discussed topics.\n",
      "2025-03-13 13:53:19,115 INFO [2024-02-01T00:00:00] Please note that accessing this dataset via CDS for time-critical operation is not advised or supported\n",
      "2025-03-13 13:53:19,116 INFO [2024-02-01T00:00:00] Please note we suggest checking the list of known issues on the GloFAS wiki\n",
      "[here](https://confluence.ecmwf.int/display/CEMS/GloFAS+-+Known+Issues)\n",
      "before downloading the dataset.\n",
      "2025-03-13 13:53:19,116 INFO Request ID is 1cd3a507-8217-4562-9c9f-8aef90218b47\n",
      "2025-03-13 13:53:19,208 INFO status has been updated to accepted\n",
      "2025-03-13 13:53:40,508 INFO status has been updated to running\n",
      "2025-03-13 13:59:38,403 INFO status has been updated to successful\n"
     ]
    },
    {
     "data": {
      "application/vnd.jupyter.widget-view+json": {
       "model_id": "89291ffe502d45f9a0ddc216485087a7",
       "version_major": 2,
       "version_minor": 0
      },
      "text/plain": [
       "79f220540ca14616c08b1dedba1da6de.grib:   0%|          | 0.00/31.3M [00:00<?, ?B/s]"
      ]
     },
     "metadata": {},
     "output_type": "display_data"
    },
    {
     "name": "stderr",
     "output_type": "stream",
     "text": [
      "2025-03-13 13:59:41,218 INFO [2024-09-26T00:00:00] Watch our [Forum]( https://forum.ecmwf.int/) for Announcements, news and other discussed topics.\n",
      "2025-03-13 13:59:41,432 INFO [2024-02-01T00:00:00] Please note that accessing this dataset via CDS for time-critical operation is not advised or supported\n",
      "2025-03-13 13:59:41,433 INFO [2024-02-01T00:00:00] Please note we suggest checking the list of known issues on the GloFAS wiki\n",
      "[here](https://confluence.ecmwf.int/display/CEMS/GloFAS+-+Known+Issues)\n",
      "before downloading the dataset.\n",
      "2025-03-13 13:59:41,434 INFO Request ID is 2fe203e1-26c3-4358-922e-e45fa9e26153\n",
      "2025-03-13 13:59:41,508 INFO status has been updated to accepted\n",
      "2025-03-13 13:59:55,197 INFO status has been updated to running\n",
      "2025-03-13 14:04:00,502 INFO status has been updated to successful\n"
     ]
    },
    {
     "data": {
      "application/vnd.jupyter.widget-view+json": {
       "model_id": "5d3d69391dbd4a33803ba2a456575024",
       "version_major": 2,
       "version_minor": 0
      },
      "text/plain": [
       "be4e02beb3b7b06797694adddae7af14.grib:   0%|          | 0.00/31.3M [00:00<?, ?B/s]"
      ]
     },
     "metadata": {},
     "output_type": "display_data"
    },
    {
     "name": "stderr",
     "output_type": "stream",
     "text": [
      "2025-03-13 14:04:05,147 INFO [2024-09-26T00:00:00] Watch our [Forum]( https://forum.ecmwf.int/) for Announcements, news and other discussed topics.\n",
      "2025-03-13 14:04:05,387 INFO [2024-02-01T00:00:00] Please note that accessing this dataset via CDS for time-critical operation is not advised or supported\n",
      "2025-03-13 14:04:05,387 INFO [2024-02-01T00:00:00] Please note we suggest checking the list of known issues on the GloFAS wiki\n",
      "[here](https://confluence.ecmwf.int/display/CEMS/GloFAS+-+Known+Issues)\n",
      "before downloading the dataset.\n",
      "2025-03-13 14:04:05,388 INFO Request ID is 9a70fe03-3b92-407c-968a-7dd0cd8fa410\n",
      "2025-03-13 14:04:05,497 INFO status has been updated to accepted\n",
      "2025-03-13 14:04:26,803 INFO status has been updated to running\n",
      "2025-03-13 14:08:24,388 INFO status has been updated to successful\n"
     ]
    },
    {
     "data": {
      "application/vnd.jupyter.widget-view+json": {
       "model_id": "1587820c36264e6e9823347ff6ab893c",
       "version_major": 2,
       "version_minor": 0
      },
      "text/plain": [
       "c6dac62a403adeee6b24d91fd923b748.grib:   0%|          | 0.00/31.3M [00:00<?, ?B/s]"
      ]
     },
     "metadata": {},
     "output_type": "display_data"
    },
    {
     "name": "stderr",
     "output_type": "stream",
     "text": [
      "2025-03-13 14:08:28,300 INFO [2024-09-26T00:00:00] Watch our [Forum]( https://forum.ecmwf.int/) for Announcements, news and other discussed topics.\n",
      "2025-03-13 14:08:28,594 INFO [2024-02-01T00:00:00] Please note that accessing this dataset via CDS for time-critical operation is not advised or supported\n",
      "2025-03-13 14:08:28,595 INFO [2024-02-01T00:00:00] Please note we suggest checking the list of known issues on the GloFAS wiki\n",
      "[here](https://confluence.ecmwf.int/display/CEMS/GloFAS+-+Known+Issues)\n",
      "before downloading the dataset.\n",
      "2025-03-13 14:08:28,596 INFO Request ID is f6e76d8a-9787-40bd-9e8b-a56211995d7a\n",
      "2025-03-13 14:08:28,703 INFO status has been updated to accepted\n",
      "2025-03-13 14:09:19,073 INFO status has been updated to running\n",
      "2025-03-13 14:12:47,996 INFO status has been updated to successful\n"
     ]
    },
    {
     "data": {
      "application/vnd.jupyter.widget-view+json": {
       "model_id": "dbf96dd4ddac46e39790f86382370be4",
       "version_major": 2,
       "version_minor": 0
      },
      "text/plain": [
       "98961256bc000dc1d6c9d8013cbc178.grib:   0%|          | 0.00/31.3M [00:00<?, ?B/s]"
      ]
     },
     "metadata": {},
     "output_type": "display_data"
    },
    {
     "name": "stderr",
     "output_type": "stream",
     "text": [
      "2025-03-13 14:12:56,821 INFO [2024-09-26T00:00:00] Watch our [Forum]( https://forum.ecmwf.int/) for Announcements, news and other discussed topics.\n",
      "2025-03-13 14:12:57,050 INFO [2024-02-01T00:00:00] Please note that accessing this dataset via CDS for time-critical operation is not advised or supported\n",
      "2025-03-13 14:12:57,051 INFO [2024-02-01T00:00:00] Please note we suggest checking the list of known issues on the GloFAS wiki\n",
      "[here](https://confluence.ecmwf.int/display/CEMS/GloFAS+-+Known+Issues)\n",
      "before downloading the dataset.\n",
      "2025-03-13 14:12:57,051 INFO Request ID is 7840fe20-8064-4f0e-9c25-fabd8f992b85\n",
      "2025-03-13 14:12:57,123 INFO status has been updated to accepted\n",
      "2025-03-13 14:13:10,740 INFO status has been updated to running\n",
      "2025-03-13 14:17:15,978 INFO status has been updated to successful\n"
     ]
    },
    {
     "data": {
      "application/vnd.jupyter.widget-view+json": {
       "model_id": "25a7227ab8c14e90a5f9b2c79ca9de4d",
       "version_major": 2,
       "version_minor": 0
      },
      "text/plain": [
       "935c49b344d0f7c83e7c5924643d3090.grib:   0%|          | 0.00/31.3M [00:00<?, ?B/s]"
      ]
     },
     "metadata": {},
     "output_type": "display_data"
    },
    {
     "name": "stderr",
     "output_type": "stream",
     "text": [
      "2025-03-13 14:17:19,312 INFO [2024-09-26T00:00:00] Watch our [Forum]( https://forum.ecmwf.int/) for Announcements, news and other discussed topics.\n",
      "2025-03-13 14:17:19,516 INFO [2024-02-01T00:00:00] Please note that accessing this dataset via CDS for time-critical operation is not advised or supported\n",
      "2025-03-13 14:17:19,517 INFO [2024-02-01T00:00:00] Please note we suggest checking the list of known issues on the GloFAS wiki\n",
      "[here](https://confluence.ecmwf.int/display/CEMS/GloFAS+-+Known+Issues)\n",
      "before downloading the dataset.\n",
      "2025-03-13 14:17:19,517 INFO Request ID is 77518619-19fe-4961-9e7e-d7635eacdd92\n",
      "2025-03-13 14:17:19,596 INFO status has been updated to accepted\n",
      "2025-03-13 14:17:24,613 INFO status has been updated to running\n",
      "2025-03-13 14:21:43,410 INFO status has been updated to successful\n"
     ]
    },
    {
     "data": {
      "application/vnd.jupyter.widget-view+json": {
       "model_id": "6f9bf06092db47009252803c932b47fc",
       "version_major": 2,
       "version_minor": 0
      },
      "text/plain": [
       "cd31c8cbe27e17a006f046784ec69799.grib:   0%|          | 0.00/31.3M [00:00<?, ?B/s]"
      ]
     },
     "metadata": {},
     "output_type": "display_data"
    },
    {
     "name": "stderr",
     "output_type": "stream",
     "text": [
      "2025-03-13 14:21:46,045 INFO [2024-09-26T00:00:00] Watch our [Forum]( https://forum.ecmwf.int/) for Announcements, news and other discussed topics.\n",
      "2025-03-13 14:21:46,242 INFO [2024-02-01T00:00:00] Please note that accessing this dataset via CDS for time-critical operation is not advised or supported\n",
      "2025-03-13 14:21:46,243 INFO [2024-02-01T00:00:00] Please note we suggest checking the list of known issues on the GloFAS wiki\n",
      "[here](https://confluence.ecmwf.int/display/CEMS/GloFAS+-+Known+Issues)\n",
      "before downloading the dataset.\n",
      "2025-03-13 14:21:46,244 INFO Request ID is 046b1bef-99a1-491e-9cdf-8c568061a921\n",
      "2025-03-13 14:21:46,336 INFO status has been updated to accepted\n",
      "2025-03-13 14:21:59,998 INFO status has been updated to running\n",
      "2025-03-13 14:26:05,212 INFO status has been updated to successful\n"
     ]
    },
    {
     "data": {
      "application/vnd.jupyter.widget-view+json": {
       "model_id": "4ad0eb22f1eb43bdbb35e8108ee9d9c9",
       "version_major": 2,
       "version_minor": 0
      },
      "text/plain": [
       "a1d65b1aa03dd24c7db8d9302175b95f.grib:   0%|          | 0.00/31.3M [00:00<?, ?B/s]"
      ]
     },
     "metadata": {},
     "output_type": "display_data"
    },
    {
     "name": "stderr",
     "output_type": "stream",
     "text": [
      "2025-03-13 14:26:08,668 INFO [2024-09-26T00:00:00] Watch our [Forum]( https://forum.ecmwf.int/) for Announcements, news and other discussed topics.\n",
      "2025-03-13 14:26:08,869 INFO [2024-02-01T00:00:00] Please note that accessing this dataset via CDS for time-critical operation is not advised or supported\n",
      "2025-03-13 14:26:08,870 INFO [2024-02-01T00:00:00] Please note we suggest checking the list of known issues on the GloFAS wiki\n",
      "[here](https://confluence.ecmwf.int/display/CEMS/GloFAS+-+Known+Issues)\n",
      "before downloading the dataset.\n",
      "2025-03-13 14:26:08,870 INFO Request ID is db6ee97b-64bd-4f94-9e90-d6319705e4e6\n",
      "2025-03-13 14:26:08,961 INFO status has been updated to accepted\n",
      "2025-03-13 14:26:22,560 INFO status has been updated to running\n",
      "2025-03-13 14:30:27,767 INFO status has been updated to successful\n"
     ]
    },
    {
     "data": {
      "application/vnd.jupyter.widget-view+json": {
       "model_id": "37716d087da347e3bc98329ccf377b60",
       "version_major": 2,
       "version_minor": 0
      },
      "text/plain": [
       "1d94218602569e95b241075f562cd33c.grib:   0%|          | 0.00/31.3M [00:00<?, ?B/s]"
      ]
     },
     "metadata": {},
     "output_type": "display_data"
    },
    {
     "name": "stderr",
     "output_type": "stream",
     "text": [
      "2025-03-13 14:30:32,171 INFO [2024-09-26T00:00:00] Watch our [Forum]( https://forum.ecmwf.int/) for Announcements, news and other discussed topics.\n",
      "2025-03-13 14:30:32,381 INFO [2024-02-01T00:00:00] Please note that accessing this dataset via CDS for time-critical operation is not advised or supported\n",
      "2025-03-13 14:30:32,382 INFO [2024-02-01T00:00:00] Please note we suggest checking the list of known issues on the GloFAS wiki\n",
      "[here](https://confluence.ecmwf.int/display/CEMS/GloFAS+-+Known+Issues)\n",
      "before downloading the dataset.\n",
      "2025-03-13 14:30:32,383 INFO Request ID is f809de25-189c-4bae-8d05-b20dd3c66a0a\n",
      "2025-03-13 14:30:32,476 INFO status has been updated to accepted\n",
      "2025-03-13 14:30:37,495 INFO status has been updated to running\n",
      "2025-03-13 14:36:51,492 INFO status has been updated to successful\n"
     ]
    },
    {
     "data": {
      "application/vnd.jupyter.widget-view+json": {
       "model_id": "baed80d6b461494599d023a388cd8b75",
       "version_major": 2,
       "version_minor": 0
      },
      "text/plain": [
       "8dcfb842ce619fe99a2e82cf811b3cca.grib:   0%|          | 0.00/31.3M [00:00<?, ?B/s]"
      ]
     },
     "metadata": {},
     "output_type": "display_data"
    },
    {
     "name": "stderr",
     "output_type": "stream",
     "text": [
      "2025-03-13 14:36:55,750 INFO [2024-09-26T00:00:00] Watch our [Forum]( https://forum.ecmwf.int/) for Announcements, news and other discussed topics.\n",
      "2025-03-13 14:36:55,982 INFO [2024-02-01T00:00:00] Please note that accessing this dataset via CDS for time-critical operation is not advised or supported\n",
      "2025-03-13 14:36:55,983 INFO [2024-02-01T00:00:00] Please note we suggest checking the list of known issues on the GloFAS wiki\n",
      "[here](https://confluence.ecmwf.int/display/CEMS/GloFAS+-+Known+Issues)\n",
      "before downloading the dataset.\n",
      "2025-03-13 14:36:55,984 INFO Request ID is 780168c3-42da-4dbc-a451-d44cff2382c7\n",
      "2025-03-13 14:36:56,082 INFO status has been updated to accepted\n",
      "2025-03-13 14:38:11,763 INFO status has been updated to running\n",
      "2025-03-13 14:41:14,937 INFO status has been updated to successful\n"
     ]
    },
    {
     "data": {
      "application/vnd.jupyter.widget-view+json": {
       "model_id": "77a336b6c8844e7eaf973629dfa1349e",
       "version_major": 2,
       "version_minor": 0
      },
      "text/plain": [
       "d6c4ff869b5db4f0c4824822d02a2727.grib:   0%|          | 0.00/31.3M [00:00<?, ?B/s]"
      ]
     },
     "metadata": {},
     "output_type": "display_data"
    },
    {
     "name": "stderr",
     "output_type": "stream",
     "text": [
      "2025-03-13 14:41:22,845 INFO [2024-09-26T00:00:00] Watch our [Forum]( https://forum.ecmwf.int/) for Announcements, news and other discussed topics.\n",
      "2025-03-13 14:41:23,099 INFO [2024-02-01T00:00:00] Please note that accessing this dataset via CDS for time-critical operation is not advised or supported\n",
      "2025-03-13 14:41:23,100 INFO [2024-02-01T00:00:00] Please note we suggest checking the list of known issues on the GloFAS wiki\n",
      "[here](https://confluence.ecmwf.int/display/CEMS/GloFAS+-+Known+Issues)\n",
      "before downloading the dataset.\n",
      "2025-03-13 14:41:23,100 INFO Request ID is 750e150d-6368-4753-a8db-ea095dbf2a33\n",
      "2025-03-13 14:41:23,173 INFO status has been updated to accepted\n",
      "2025-03-13 14:41:36,848 INFO status has been updated to running\n",
      "2025-03-13 14:44:15,353 INFO status has been updated to successful\n"
     ]
    },
    {
     "data": {
      "application/vnd.jupyter.widget-view+json": {
       "model_id": "41e62db3064a4eeaac4baab8cdb01a36",
       "version_major": 2,
       "version_minor": 0
      },
      "text/plain": [
       "508fe86c33d772cd12bf7a354b2f6885.grib:   0%|          | 0.00/31.3M [00:00<?, ?B/s]"
      ]
     },
     "metadata": {},
     "output_type": "display_data"
    },
    {
     "name": "stderr",
     "output_type": "stream",
     "text": [
      "2025-03-13 14:44:18,146 INFO [2024-09-26T00:00:00] Watch our [Forum]( https://forum.ecmwf.int/) for Announcements, news and other discussed topics.\n",
      "2025-03-13 14:44:18,426 INFO [2024-02-01T00:00:00] Please note that accessing this dataset via CDS for time-critical operation is not advised or supported\n",
      "2025-03-13 14:44:18,427 INFO [2024-02-01T00:00:00] Please note we suggest checking the list of known issues on the GloFAS wiki\n",
      "[here](https://confluence.ecmwf.int/display/CEMS/GloFAS+-+Known+Issues)\n",
      "before downloading the dataset.\n",
      "2025-03-13 14:44:18,428 INFO Request ID is 1665cd47-c675-4f91-a7b2-548f4aa96fb7\n",
      "2025-03-13 14:44:18,552 INFO status has been updated to accepted\n",
      "2025-03-13 14:44:51,393 INFO status has been updated to running\n",
      "2025-03-13 14:48:37,432 INFO status has been updated to successful\n"
     ]
    },
    {
     "data": {
      "application/vnd.jupyter.widget-view+json": {
       "model_id": "9d202fac8ca2416d9b3ac89f592373ac",
       "version_major": 2,
       "version_minor": 0
      },
      "text/plain": [
       "ae32ef2184ebaaeaf642362421365f09.grib:   0%|          | 0.00/31.3M [00:00<?, ?B/s]"
      ]
     },
     "metadata": {},
     "output_type": "display_data"
    },
    {
     "name": "stderr",
     "output_type": "stream",
     "text": [
      "2025-03-13 14:48:45,666 INFO [2024-09-26T00:00:00] Watch our [Forum]( https://forum.ecmwf.int/) for Announcements, news and other discussed topics.\n",
      "2025-03-13 14:48:45,899 INFO [2024-02-01T00:00:00] Please note that accessing this dataset via CDS for time-critical operation is not advised or supported\n",
      "2025-03-13 14:48:45,900 INFO [2024-02-01T00:00:00] Please note we suggest checking the list of known issues on the GloFAS wiki\n",
      "[here](https://confluence.ecmwf.int/display/CEMS/GloFAS+-+Known+Issues)\n",
      "before downloading the dataset.\n",
      "2025-03-13 14:48:45,901 INFO Request ID is 9c24954e-3332-4138-8be9-1d48928fbfef\n",
      "2025-03-13 14:48:45,991 INFO status has been updated to accepted\n",
      "2025-03-13 14:49:07,268 INFO status has been updated to running\n",
      "2025-03-13 14:53:04,779 INFO status has been updated to successful\n"
     ]
    },
    {
     "data": {
      "application/vnd.jupyter.widget-view+json": {
       "model_id": "1425fda753e340ed9beb84fc5e5e5980",
       "version_major": 2,
       "version_minor": 0
      },
      "text/plain": [
       "82a97128edf15193d2fc01b9113980ed.grib:   0%|          | 0.00/31.3M [00:00<?, ?B/s]"
      ]
     },
     "metadata": {},
     "output_type": "display_data"
    },
    {
     "name": "stderr",
     "output_type": "stream",
     "text": [
      "2025-03-13 14:53:08,948 INFO [2024-09-26T00:00:00] Watch our [Forum]( https://forum.ecmwf.int/) for Announcements, news and other discussed topics.\n",
      "2025-03-13 14:53:09,179 INFO [2024-02-01T00:00:00] Please note that accessing this dataset via CDS for time-critical operation is not advised or supported\n",
      "2025-03-13 14:53:09,179 INFO [2024-02-01T00:00:00] Please note we suggest checking the list of known issues on the GloFAS wiki\n",
      "[here](https://confluence.ecmwf.int/display/CEMS/GloFAS+-+Known+Issues)\n",
      "before downloading the dataset.\n",
      "2025-03-13 14:53:09,180 INFO Request ID is e3949f1e-d278-4b82-89da-2fbe1e055162\n",
      "2025-03-13 14:53:09,273 INFO status has been updated to accepted\n",
      "2025-03-13 14:53:42,019 INFO status has been updated to running\n",
      "2025-03-13 14:59:28,290 INFO status has been updated to successful\n"
     ]
    },
    {
     "data": {
      "application/vnd.jupyter.widget-view+json": {
       "model_id": "6f09d09b3275443f8f62df5ec45e694a",
       "version_major": 2,
       "version_minor": 0
      },
      "text/plain": [
       "ed716a125d11b488b4714fdc1b97ed72.grib:   0%|          | 0.00/31.3M [00:00<?, ?B/s]"
      ]
     },
     "metadata": {},
     "output_type": "display_data"
    },
    {
     "name": "stderr",
     "output_type": "stream",
     "text": [
      "2025-03-13 14:59:31,736 INFO [2024-09-26T00:00:00] Watch our [Forum]( https://forum.ecmwf.int/) for Announcements, news and other discussed topics.\n",
      "2025-03-13 14:59:31,933 INFO [2024-02-01T00:00:00] Please note that accessing this dataset via CDS for time-critical operation is not advised or supported\n",
      "2025-03-13 14:59:31,934 INFO [2024-02-01T00:00:00] Please note we suggest checking the list of known issues on the GloFAS wiki\n",
      "[here](https://confluence.ecmwf.int/display/CEMS/GloFAS+-+Known+Issues)\n",
      "before downloading the dataset.\n",
      "2025-03-13 14:59:31,935 INFO Request ID is e1711d01-279d-4267-a7e7-647b29d9cba5\n",
      "2025-03-13 14:59:32,026 INFO status has been updated to accepted\n",
      "2025-03-13 14:59:45,639 INFO status has been updated to running\n",
      "2025-03-13 15:03:50,882 INFO status has been updated to successful\n"
     ]
    },
    {
     "data": {
      "application/vnd.jupyter.widget-view+json": {
       "model_id": "9691f134ae014c459c0dada62b0aab5f",
       "version_major": 2,
       "version_minor": 0
      },
      "text/plain": [
       "485fc03bfec5b0ef52ef58141d0cc548.grib:   0%|          | 0.00/31.3M [00:00<?, ?B/s]"
      ]
     },
     "metadata": {},
     "output_type": "display_data"
    },
    {
     "name": "stderr",
     "output_type": "stream",
     "text": [
      "2025-03-13 15:03:55,109 INFO [2024-09-26T00:00:00] Watch our [Forum]( https://forum.ecmwf.int/) for Announcements, news and other discussed topics.\n",
      "2025-03-13 15:03:55,388 INFO [2024-02-01T00:00:00] Please note that accessing this dataset via CDS for time-critical operation is not advised or supported\n",
      "2025-03-13 15:03:55,389 INFO [2024-02-01T00:00:00] Please note we suggest checking the list of known issues on the GloFAS wiki\n",
      "[here](https://confluence.ecmwf.int/display/CEMS/GloFAS+-+Known+Issues)\n",
      "before downloading the dataset.\n",
      "2025-03-13 15:03:55,390 INFO Request ID is 3ff86d1b-19ad-4bf8-b1e2-4c5e5dc7da61\n",
      "2025-03-13 15:03:55,478 INFO status has been updated to accepted\n",
      "2025-03-13 15:04:16,873 INFO status has been updated to running\n",
      "2025-03-13 15:10:14,653 INFO status has been updated to successful\n"
     ]
    },
    {
     "data": {
      "application/vnd.jupyter.widget-view+json": {
       "model_id": "5547b00d3d254f4abac23b11310ef5c1",
       "version_major": 2,
       "version_minor": 0
      },
      "text/plain": [
       "60ded826610e9530dc4bb37a9f164276.grib:   0%|          | 0.00/31.3M [00:00<?, ?B/s]"
      ]
     },
     "metadata": {},
     "output_type": "display_data"
    },
    {
     "name": "stderr",
     "output_type": "stream",
     "text": [
      "2025-03-13 15:10:18,176 INFO [2024-09-26T00:00:00] Watch our [Forum]( https://forum.ecmwf.int/) for Announcements, news and other discussed topics.\n",
      "2025-03-13 15:10:18,474 INFO [2024-02-01T00:00:00] Please note that accessing this dataset via CDS for time-critical operation is not advised or supported\n",
      "2025-03-13 15:10:18,475 INFO [2024-02-01T00:00:00] Please note we suggest checking the list of known issues on the GloFAS wiki\n",
      "[here](https://confluence.ecmwf.int/display/CEMS/GloFAS+-+Known+Issues)\n",
      "before downloading the dataset.\n",
      "2025-03-13 15:10:18,476 INFO Request ID is 6f0318a0-4e72-4335-a46b-0af519ab6166\n",
      "2025-03-13 15:10:18,549 INFO status has been updated to accepted\n",
      "2025-03-13 15:11:34,173 INFO status has been updated to running\n",
      "2025-03-13 15:22:43,372 INFO status has been updated to successful\n"
     ]
    },
    {
     "data": {
      "application/vnd.jupyter.widget-view+json": {
       "model_id": "17010f69dada46f0981beabc6da3ca3a",
       "version_major": 2,
       "version_minor": 0
      },
      "text/plain": [
       "9f0203239a93c20ae74a585c41e963bd.grib:   0%|          | 0.00/31.3M [00:00<?, ?B/s]"
      ]
     },
     "metadata": {},
     "output_type": "display_data"
    },
    {
     "name": "stderr",
     "output_type": "stream",
     "text": [
      "2025-03-13 15:22:46,168 INFO [2024-09-26T00:00:00] Watch our [Forum]( https://forum.ecmwf.int/) for Announcements, news and other discussed topics.\n",
      "2025-03-13 15:22:46,413 INFO [2024-02-01T00:00:00] Please note that accessing this dataset via CDS for time-critical operation is not advised or supported\n",
      "2025-03-13 15:22:46,414 INFO [2024-02-01T00:00:00] Please note we suggest checking the list of known issues on the GloFAS wiki\n",
      "[here](https://confluence.ecmwf.int/display/CEMS/GloFAS+-+Known+Issues)\n",
      "before downloading the dataset.\n",
      "2025-03-13 15:22:46,415 INFO Request ID is 6c2f656a-4336-4615-bae0-ec3bfe478d6e\n",
      "2025-03-13 15:22:46,489 INFO status has been updated to accepted\n",
      "2025-03-13 15:25:38,605 INFO status has been updated to running\n",
      "2025-03-13 16:13:20,880 INFO status has been updated to successful\n"
     ]
    },
    {
     "data": {
      "application/vnd.jupyter.widget-view+json": {
       "model_id": "20fcdd7ef4c54742975b87d3c2c1aede",
       "version_major": 2,
       "version_minor": 0
      },
      "text/plain": [
       "a56f7b054249a9b7aae427dc8716ddff.grib:   0%|          | 0.00/31.3M [00:00<?, ?B/s]"
      ]
     },
     "metadata": {},
     "output_type": "display_data"
    },
    {
     "name": "stderr",
     "output_type": "stream",
     "text": [
      "2025-03-13 16:13:26,931 INFO [2024-09-26T00:00:00] Watch our [Forum]( https://forum.ecmwf.int/) for Announcements, news and other discussed topics.\n",
      "2025-03-13 16:13:27,127 INFO [2024-02-01T00:00:00] Please note that accessing this dataset via CDS for time-critical operation is not advised or supported\n",
      "2025-03-13 16:13:27,128 INFO [2024-02-01T00:00:00] Please note we suggest checking the list of known issues on the GloFAS wiki\n",
      "[here](https://confluence.ecmwf.int/display/CEMS/GloFAS+-+Known+Issues)\n",
      "before downloading the dataset.\n",
      "2025-03-13 16:13:27,129 INFO Request ID is faf5b900-df2c-4742-8343-b1df6d785c13\n",
      "2025-03-13 16:13:27,225 INFO status has been updated to accepted\n",
      "2025-03-13 16:13:32,290 INFO status has been updated to running\n",
      "2025-03-13 16:13:42,291 INFO status has been updated to accepted\n",
      "2025-03-13 16:16:20,730 INFO status has been updated to running\n",
      "2025-03-13 16:19:47,747 INFO status has been updated to successful\n"
     ]
    },
    {
     "data": {
      "application/vnd.jupyter.widget-view+json": {
       "model_id": "a60e7b31f4cf4702b60e937d2ff0009d",
       "version_major": 2,
       "version_minor": 0
      },
      "text/plain": [
       "f61b4a2245d8ddb57429621e6bdb0127.grib:   0%|          | 0.00/31.3M [00:00<?, ?B/s]"
      ]
     },
     "metadata": {},
     "output_type": "display_data"
    },
    {
     "name": "stderr",
     "output_type": "stream",
     "text": [
      "2025-03-13 16:19:51,161 INFO [2024-09-26T00:00:00] Watch our [Forum]( https://forum.ecmwf.int/) for Announcements, news and other discussed topics.\n",
      "2025-03-13 16:19:51,355 INFO [2024-02-01T00:00:00] Please note that accessing this dataset via CDS for time-critical operation is not advised or supported\n",
      "2025-03-13 16:19:51,355 INFO [2024-02-01T00:00:00] Please note we suggest checking the list of known issues on the GloFAS wiki\n",
      "[here](https://confluence.ecmwf.int/display/CEMS/GloFAS+-+Known+Issues)\n",
      "before downloading the dataset.\n",
      "2025-03-13 16:19:51,356 INFO Request ID is c83d2156-7726-4150-9ed7-6f69e5e8766b\n",
      "2025-03-13 16:19:51,435 INFO status has been updated to accepted\n",
      "2025-03-13 16:20:24,244 INFO status has been updated to running\n",
      "2025-03-13 16:24:10,318 INFO status has been updated to successful\n"
     ]
    },
    {
     "data": {
      "application/vnd.jupyter.widget-view+json": {
       "model_id": "a5dacf2ad6d24ed78dd2608708ae55fd",
       "version_major": 2,
       "version_minor": 0
      },
      "text/plain": [
       "aaed119836f1382d822aca0d40251c91.grib:   0%|          | 0.00/31.3M [00:00<?, ?B/s]"
      ]
     },
     "metadata": {},
     "output_type": "display_data"
    },
    {
     "name": "stderr",
     "output_type": "stream",
     "text": [
      "2025-03-13 16:24:17,967 INFO [2024-09-26T00:00:00] Watch our [Forum]( https://forum.ecmwf.int/) for Announcements, news and other discussed topics.\n",
      "2025-03-13 16:24:18,192 INFO [2024-02-01T00:00:00] Please note that accessing this dataset via CDS for time-critical operation is not advised or supported\n",
      "2025-03-13 16:24:18,193 INFO [2024-02-01T00:00:00] Please note we suggest checking the list of known issues on the GloFAS wiki\n",
      "[here](https://confluence.ecmwf.int/display/CEMS/GloFAS+-+Known+Issues)\n",
      "before downloading the dataset.\n",
      "2025-03-13 16:24:18,193 INFO Request ID is e7395932-7b0e-4c2d-88dd-7160ae5008ca\n",
      "2025-03-13 16:24:18,278 INFO status has been updated to accepted\n",
      "2025-03-13 16:27:10,287 INFO status has been updated to running\n",
      "2025-03-13 16:30:37,262 INFO status has been updated to successful\n"
     ]
    },
    {
     "data": {
      "application/vnd.jupyter.widget-view+json": {
       "model_id": "d081b834d65e4e3885107351d5ba6c8f",
       "version_major": 2,
       "version_minor": 0
      },
      "text/plain": [
       "e6b83519491ab6944771cbdbad312259.grib:   0%|          | 0.00/31.3M [00:00<?, ?B/s]"
      ]
     },
     "metadata": {},
     "output_type": "display_data"
    },
    {
     "name": "stderr",
     "output_type": "stream",
     "text": [
      "2025-03-13 16:30:43,871 INFO [2024-09-26T00:00:00] Watch our [Forum]( https://forum.ecmwf.int/) for Announcements, news and other discussed topics.\n",
      "2025-03-13 16:30:44,063 INFO [2024-02-01T00:00:00] Please note that accessing this dataset via CDS for time-critical operation is not advised or supported\n",
      "2025-03-13 16:30:44,064 INFO [2024-02-01T00:00:00] Please note we suggest checking the list of known issues on the GloFAS wiki\n",
      "[here](https://confluence.ecmwf.int/display/CEMS/GloFAS+-+Known+Issues)\n",
      "before downloading the dataset.\n",
      "2025-03-13 16:30:44,065 INFO Request ID is ae650042-aa39-4d2b-89b5-abe4d904401f\n",
      "2025-03-13 16:30:44,151 INFO status has been updated to accepted\n",
      "2025-03-13 16:31:16,967 INFO status has been updated to running\n",
      "2025-03-13 16:37:03,234 INFO status has been updated to successful\n"
     ]
    },
    {
     "data": {
      "application/vnd.jupyter.widget-view+json": {
       "model_id": "e20f00fe396c4530acb30a2419dc46f5",
       "version_major": 2,
       "version_minor": 0
      },
      "text/plain": [
       "b260499ae29daf42c8602c52336c5fc5.grib:   0%|          | 0.00/31.3M [00:00<?, ?B/s]"
      ]
     },
     "metadata": {},
     "output_type": "display_data"
    },
    {
     "name": "stderr",
     "output_type": "stream",
     "text": [
      "2025-03-13 16:37:05,799 INFO [2024-09-26T00:00:00] Watch our [Forum]( https://forum.ecmwf.int/) for Announcements, news and other discussed topics.\n",
      "2025-03-13 16:37:06,019 INFO [2024-02-01T00:00:00] Please note that accessing this dataset via CDS for time-critical operation is not advised or supported\n",
      "2025-03-13 16:37:06,020 INFO [2024-02-01T00:00:00] Please note we suggest checking the list of known issues on the GloFAS wiki\n",
      "[here](https://confluence.ecmwf.int/display/CEMS/GloFAS+-+Known+Issues)\n",
      "before downloading the dataset.\n",
      "2025-03-13 16:37:06,021 INFO Request ID is d884ada1-91c5-4d0a-920e-115e1d1ad6e3\n",
      "2025-03-13 16:37:06,090 INFO status has been updated to accepted\n",
      "2025-03-13 16:37:14,864 INFO status has been updated to running\n",
      "2025-03-13 16:43:25,419 INFO status has been updated to successful\n"
     ]
    },
    {
     "data": {
      "application/vnd.jupyter.widget-view+json": {
       "model_id": "7622c518f7754136a05bda798c50561f",
       "version_major": 2,
       "version_minor": 0
      },
      "text/plain": [
       "ee6ec71618a2173b3da7490901b2f51b.grib:   0%|          | 0.00/31.3M [00:00<?, ?B/s]"
      ]
     },
     "metadata": {},
     "output_type": "display_data"
    },
    {
     "name": "stderr",
     "output_type": "stream",
     "text": [
      "2025-03-13 16:43:28,849 INFO [2024-09-26T00:00:00] Watch our [Forum]( https://forum.ecmwf.int/) for Announcements, news and other discussed topics.\n",
      "2025-03-13 16:43:29,149 INFO [2024-02-01T00:00:00] Please note that accessing this dataset via CDS for time-critical operation is not advised or supported\n",
      "2025-03-13 16:43:29,150 INFO [2024-02-01T00:00:00] Please note we suggest checking the list of known issues on the GloFAS wiki\n",
      "[here](https://confluence.ecmwf.int/display/CEMS/GloFAS+-+Known+Issues)\n",
      "before downloading the dataset.\n",
      "2025-03-13 16:43:29,151 INFO Request ID is 86bbc57c-1bae-40c7-8acf-e5a4ee37d3fe\n",
      "2025-03-13 16:43:29,238 INFO status has been updated to accepted\n",
      "2025-03-13 16:44:44,859 INFO status has been updated to running\n",
      "2025-03-13 16:47:48,038 INFO status has been updated to successful\n"
     ]
    },
    {
     "data": {
      "application/vnd.jupyter.widget-view+json": {
       "model_id": "ee2875edad0c4451a1b1384918a68583",
       "version_major": 2,
       "version_minor": 0
      },
      "text/plain": [
       "7781aa3678993eeca53203bc38201efb.grib:   0%|          | 0.00/31.3M [00:00<?, ?B/s]"
      ]
     },
     "metadata": {},
     "output_type": "display_data"
    },
    {
     "name": "stderr",
     "output_type": "stream",
     "text": [
      "2025-03-13 16:47:50,649 INFO [2024-09-26T00:00:00] Watch our [Forum]( https://forum.ecmwf.int/) for Announcements, news and other discussed topics.\n",
      "2025-03-13 16:47:50,914 INFO [2024-02-01T00:00:00] Please note that accessing this dataset via CDS for time-critical operation is not advised or supported\n",
      "2025-03-13 16:47:50,915 INFO [2024-02-01T00:00:00] Please note we suggest checking the list of known issues on the GloFAS wiki\n",
      "[here](https://confluence.ecmwf.int/display/CEMS/GloFAS+-+Known+Issues)\n",
      "before downloading the dataset.\n",
      "2025-03-13 16:47:50,916 INFO Request ID is d3124842-6a17-4306-a229-85afbc857a2b\n",
      "2025-03-13 16:47:50,993 INFO status has been updated to accepted\n",
      "2025-03-13 16:48:12,236 INFO status has been updated to running\n",
      "2025-03-13 16:52:13,103 INFO status has been updated to successful\n"
     ]
    },
    {
     "data": {
      "application/vnd.jupyter.widget-view+json": {
       "model_id": "43038b11b81c49a8a66c37a94fa8f4c3",
       "version_major": 2,
       "version_minor": 0
      },
      "text/plain": [
       "eaf0f3c4e8700bf46c71a5bcbdf8d9b6.grib:   0%|          | 0.00/31.3M [00:00<?, ?B/s]"
      ]
     },
     "metadata": {},
     "output_type": "display_data"
    },
    {
     "name": "stderr",
     "output_type": "stream",
     "text": [
      "2025-03-13 16:52:15,935 INFO [2024-09-26T00:00:00] Watch our [Forum]( https://forum.ecmwf.int/) for Announcements, news and other discussed topics.\n",
      "2025-03-13 16:52:16,139 INFO [2024-02-01T00:00:00] Please note that accessing this dataset via CDS for time-critical operation is not advised or supported\n",
      "2025-03-13 16:52:16,139 INFO [2024-02-01T00:00:00] Please note we suggest checking the list of known issues on the GloFAS wiki\n",
      "[here](https://confluence.ecmwf.int/display/CEMS/GloFAS+-+Known+Issues)\n",
      "before downloading the dataset.\n",
      "2025-03-13 16:52:16,140 INFO Request ID is 0d79db84-be85-4b56-90ec-5a161fe3bb1b\n",
      "2025-03-13 16:52:16,219 INFO status has been updated to accepted\n",
      "2025-03-13 16:52:29,755 INFO status has been updated to running\n",
      "2025-03-13 16:56:35,193 INFO status has been updated to successful\n"
     ]
    },
    {
     "data": {
      "application/vnd.jupyter.widget-view+json": {
       "model_id": "45665b7ccd06405fb3868284570cc46b",
       "version_major": 2,
       "version_minor": 0
      },
      "text/plain": [
       "d2d0aa29185aacbb1de08264d6d0c646.grib:   0%|          | 0.00/31.3M [00:00<?, ?B/s]"
      ]
     },
     "metadata": {},
     "output_type": "display_data"
    },
    {
     "name": "stderr",
     "output_type": "stream",
     "text": [
      "2025-03-13 16:56:38,534 INFO [2024-09-26T00:00:00] Watch our [Forum]( https://forum.ecmwf.int/) for Announcements, news and other discussed topics.\n",
      "2025-03-13 16:56:38,740 INFO [2024-02-01T00:00:00] Please note that accessing this dataset via CDS for time-critical operation is not advised or supported\n",
      "2025-03-13 16:56:38,741 INFO [2024-02-01T00:00:00] Please note we suggest checking the list of known issues on the GloFAS wiki\n",
      "[here](https://confluence.ecmwf.int/display/CEMS/GloFAS+-+Known+Issues)\n",
      "before downloading the dataset.\n",
      "2025-03-13 16:56:38,742 INFO Request ID is 442398d8-793a-42c6-abf7-02cce01f1988\n",
      "2025-03-13 16:56:38,823 INFO status has been updated to accepted\n",
      "2025-03-13 16:57:11,548 INFO status has been updated to running\n",
      "2025-03-13 17:00:57,499 INFO status has been updated to successful\n"
     ]
    },
    {
     "data": {
      "application/vnd.jupyter.widget-view+json": {
       "model_id": "56393af9826842a6bd9b6591661b650f",
       "version_major": 2,
       "version_minor": 0
      },
      "text/plain": [
       "e927e3b069722af4ee1b29991851e589.grib:   0%|          | 0.00/31.3M [00:00<?, ?B/s]"
      ]
     },
     "metadata": {},
     "output_type": "display_data"
    },
    {
     "name": "stderr",
     "output_type": "stream",
     "text": [
      "2025-03-13 17:01:02,171 INFO [2024-09-26T00:00:00] Watch our [Forum]( https://forum.ecmwf.int/) for Announcements, news and other discussed topics.\n",
      "2025-03-13 17:01:02,393 INFO [2024-02-01T00:00:00] Please note that accessing this dataset via CDS for time-critical operation is not advised or supported\n",
      "2025-03-13 17:01:02,394 INFO [2024-02-01T00:00:00] Please note we suggest checking the list of known issues on the GloFAS wiki\n",
      "[here](https://confluence.ecmwf.int/display/CEMS/GloFAS+-+Known+Issues)\n",
      "before downloading the dataset.\n",
      "2025-03-13 17:01:02,396 INFO Request ID is a1e81aa8-c699-40f8-98a9-93166c9e56a2\n",
      "2025-03-13 17:01:03,580 INFO status has been updated to accepted\n",
      "2025-03-13 17:02:19,183 INFO status has been updated to successful\n"
     ]
    },
    {
     "data": {
      "application/vnd.jupyter.widget-view+json": {
       "model_id": "231c4c874e4e4bcfac33b243cafa645e",
       "version_major": 2,
       "version_minor": 0
      },
      "text/plain": [
       "325720b024902b9ebfae1e7da07e519a.grib:   0%|          | 0.00/31.3M [00:00<?, ?B/s]"
      ]
     },
     "metadata": {},
     "output_type": "display_data"
    },
    {
     "name": "stderr",
     "output_type": "stream",
     "text": [
      "C:\\Users\\Mark.DESKTOP-UFHIN6T\\anaconda3\\envs\\ews_scoping\\Lib\\site-packages\\cfgrib\\xarray_plugin.py:131: FutureWarning: In a future version of xarray decode_timedelta will default to False rather than None. To silence this warning, set decode_timedelta to True, False, or a 'CFTimedeltaCoder' instance.\n",
      "  vars, attrs, coord_names = xr.conventions.decode_cf_variables(\n",
      "C:\\Users\\Mark.DESKTOP-UFHIN6T\\anaconda3\\envs\\ews_scoping\\Lib\\site-packages\\cfgrib\\xarray_plugin.py:131: FutureWarning: In a future version of xarray decode_timedelta will default to False rather than None. To silence this warning, set decode_timedelta to True, False, or a 'CFTimedeltaCoder' instance.\n",
      "  vars, attrs, coord_names = xr.conventions.decode_cf_variables(\n",
      "C:\\Users\\Mark.DESKTOP-UFHIN6T\\anaconda3\\envs\\ews_scoping\\Lib\\site-packages\\cfgrib\\xarray_plugin.py:131: FutureWarning: In a future version of xarray decode_timedelta will default to False rather than None. To silence this warning, set decode_timedelta to True, False, or a 'CFTimedeltaCoder' instance.\n",
      "  vars, attrs, coord_names = xr.conventions.decode_cf_variables(\n",
      "C:\\Users\\Mark.DESKTOP-UFHIN6T\\anaconda3\\envs\\ews_scoping\\Lib\\site-packages\\cfgrib\\xarray_plugin.py:131: FutureWarning: In a future version of xarray decode_timedelta will default to False rather than None. To silence this warning, set decode_timedelta to True, False, or a 'CFTimedeltaCoder' instance.\n",
      "  vars, attrs, coord_names = xr.conventions.decode_cf_variables(\n",
      "C:\\Users\\Mark.DESKTOP-UFHIN6T\\anaconda3\\envs\\ews_scoping\\Lib\\site-packages\\cfgrib\\xarray_plugin.py:131: FutureWarning: In a future version of xarray decode_timedelta will default to False rather than None. To silence this warning, set decode_timedelta to True, False, or a 'CFTimedeltaCoder' instance.\n",
      "  vars, attrs, coord_names = xr.conventions.decode_cf_variables(\n",
      "C:\\Users\\Mark.DESKTOP-UFHIN6T\\anaconda3\\envs\\ews_scoping\\Lib\\site-packages\\cfgrib\\xarray_plugin.py:131: FutureWarning: In a future version of xarray decode_timedelta will default to False rather than None. To silence this warning, set decode_timedelta to True, False, or a 'CFTimedeltaCoder' instance.\n",
      "  vars, attrs, coord_names = xr.conventions.decode_cf_variables(\n",
      "C:\\Users\\Mark.DESKTOP-UFHIN6T\\anaconda3\\envs\\ews_scoping\\Lib\\site-packages\\cfgrib\\xarray_plugin.py:131: FutureWarning: In a future version of xarray decode_timedelta will default to False rather than None. To silence this warning, set decode_timedelta to True, False, or a 'CFTimedeltaCoder' instance.\n",
      "  vars, attrs, coord_names = xr.conventions.decode_cf_variables(\n",
      "C:\\Users\\Mark.DESKTOP-UFHIN6T\\anaconda3\\envs\\ews_scoping\\Lib\\site-packages\\cfgrib\\xarray_plugin.py:131: FutureWarning: In a future version of xarray decode_timedelta will default to False rather than None. To silence this warning, set decode_timedelta to True, False, or a 'CFTimedeltaCoder' instance.\n",
      "  vars, attrs, coord_names = xr.conventions.decode_cf_variables(\n",
      "C:\\Users\\Mark.DESKTOP-UFHIN6T\\anaconda3\\envs\\ews_scoping\\Lib\\site-packages\\cfgrib\\xarray_plugin.py:131: FutureWarning: In a future version of xarray decode_timedelta will default to False rather than None. To silence this warning, set decode_timedelta to True, False, or a 'CFTimedeltaCoder' instance.\n",
      "  vars, attrs, coord_names = xr.conventions.decode_cf_variables(\n",
      "C:\\Users\\Mark.DESKTOP-UFHIN6T\\anaconda3\\envs\\ews_scoping\\Lib\\site-packages\\cfgrib\\xarray_plugin.py:131: FutureWarning: In a future version of xarray decode_timedelta will default to False rather than None. To silence this warning, set decode_timedelta to True, False, or a 'CFTimedeltaCoder' instance.\n",
      "  vars, attrs, coord_names = xr.conventions.decode_cf_variables(\n",
      "C:\\Users\\Mark.DESKTOP-UFHIN6T\\anaconda3\\envs\\ews_scoping\\Lib\\site-packages\\cfgrib\\xarray_plugin.py:131: FutureWarning: In a future version of xarray decode_timedelta will default to False rather than None. To silence this warning, set decode_timedelta to True, False, or a 'CFTimedeltaCoder' instance.\n",
      "  vars, attrs, coord_names = xr.conventions.decode_cf_variables(\n",
      "C:\\Users\\Mark.DESKTOP-UFHIN6T\\anaconda3\\envs\\ews_scoping\\Lib\\site-packages\\cfgrib\\xarray_plugin.py:131: FutureWarning: In a future version of xarray decode_timedelta will default to False rather than None. To silence this warning, set decode_timedelta to True, False, or a 'CFTimedeltaCoder' instance.\n",
      "  vars, attrs, coord_names = xr.conventions.decode_cf_variables(\n",
      "C:\\Users\\Mark.DESKTOP-UFHIN6T\\anaconda3\\envs\\ews_scoping\\Lib\\site-packages\\cfgrib\\xarray_plugin.py:131: FutureWarning: In a future version of xarray decode_timedelta will default to False rather than None. To silence this warning, set decode_timedelta to True, False, or a 'CFTimedeltaCoder' instance.\n",
      "  vars, attrs, coord_names = xr.conventions.decode_cf_variables(\n",
      "C:\\Users\\Mark.DESKTOP-UFHIN6T\\anaconda3\\envs\\ews_scoping\\Lib\\site-packages\\cfgrib\\xarray_plugin.py:131: FutureWarning: In a future version of xarray decode_timedelta will default to False rather than None. To silence this warning, set decode_timedelta to True, False, or a 'CFTimedeltaCoder' instance.\n",
      "  vars, attrs, coord_names = xr.conventions.decode_cf_variables(\n",
      "C:\\Users\\Mark.DESKTOP-UFHIN6T\\anaconda3\\envs\\ews_scoping\\Lib\\site-packages\\cfgrib\\xarray_plugin.py:131: FutureWarning: In a future version of xarray decode_timedelta will default to False rather than None. To silence this warning, set decode_timedelta to True, False, or a 'CFTimedeltaCoder' instance.\n",
      "  vars, attrs, coord_names = xr.conventions.decode_cf_variables(\n",
      "C:\\Users\\Mark.DESKTOP-UFHIN6T\\anaconda3\\envs\\ews_scoping\\Lib\\site-packages\\cfgrib\\xarray_plugin.py:131: FutureWarning: In a future version of xarray decode_timedelta will default to False rather than None. To silence this warning, set decode_timedelta to True, False, or a 'CFTimedeltaCoder' instance.\n",
      "  vars, attrs, coord_names = xr.conventions.decode_cf_variables(\n",
      "C:\\Users\\Mark.DESKTOP-UFHIN6T\\anaconda3\\envs\\ews_scoping\\Lib\\site-packages\\cfgrib\\xarray_plugin.py:131: FutureWarning: In a future version of xarray decode_timedelta will default to False rather than None. To silence this warning, set decode_timedelta to True, False, or a 'CFTimedeltaCoder' instance.\n",
      "  vars, attrs, coord_names = xr.conventions.decode_cf_variables(\n",
      "C:\\Users\\Mark.DESKTOP-UFHIN6T\\anaconda3\\envs\\ews_scoping\\Lib\\site-packages\\cfgrib\\xarray_plugin.py:131: FutureWarning: In a future version of xarray decode_timedelta will default to False rather than None. To silence this warning, set decode_timedelta to True, False, or a 'CFTimedeltaCoder' instance.\n",
      "  vars, attrs, coord_names = xr.conventions.decode_cf_variables(\n",
      "C:\\Users\\Mark.DESKTOP-UFHIN6T\\anaconda3\\envs\\ews_scoping\\Lib\\site-packages\\cfgrib\\xarray_plugin.py:131: FutureWarning: In a future version of xarray decode_timedelta will default to False rather than None. To silence this warning, set decode_timedelta to True, False, or a 'CFTimedeltaCoder' instance.\n",
      "  vars, attrs, coord_names = xr.conventions.decode_cf_variables(\n",
      "C:\\Users\\Mark.DESKTOP-UFHIN6T\\anaconda3\\envs\\ews_scoping\\Lib\\site-packages\\cfgrib\\xarray_plugin.py:131: FutureWarning: In a future version of xarray decode_timedelta will default to False rather than None. To silence this warning, set decode_timedelta to True, False, or a 'CFTimedeltaCoder' instance.\n",
      "  vars, attrs, coord_names = xr.conventions.decode_cf_variables(\n",
      "C:\\Users\\Mark.DESKTOP-UFHIN6T\\anaconda3\\envs\\ews_scoping\\Lib\\site-packages\\cfgrib\\xarray_plugin.py:131: FutureWarning: In a future version of xarray decode_timedelta will default to False rather than None. To silence this warning, set decode_timedelta to True, False, or a 'CFTimedeltaCoder' instance.\n",
      "  vars, attrs, coord_names = xr.conventions.decode_cf_variables(\n",
      "C:\\Users\\Mark.DESKTOP-UFHIN6T\\anaconda3\\envs\\ews_scoping\\Lib\\site-packages\\cfgrib\\xarray_plugin.py:131: FutureWarning: In a future version of xarray decode_timedelta will default to False rather than None. To silence this warning, set decode_timedelta to True, False, or a 'CFTimedeltaCoder' instance.\n",
      "  vars, attrs, coord_names = xr.conventions.decode_cf_variables(\n",
      "C:\\Users\\Mark.DESKTOP-UFHIN6T\\anaconda3\\envs\\ews_scoping\\Lib\\site-packages\\cfgrib\\xarray_plugin.py:131: FutureWarning: In a future version of xarray decode_timedelta will default to False rather than None. To silence this warning, set decode_timedelta to True, False, or a 'CFTimedeltaCoder' instance.\n",
      "  vars, attrs, coord_names = xr.conventions.decode_cf_variables(\n",
      "C:\\Users\\Mark.DESKTOP-UFHIN6T\\anaconda3\\envs\\ews_scoping\\Lib\\site-packages\\cfgrib\\xarray_plugin.py:131: FutureWarning: In a future version of xarray decode_timedelta will default to False rather than None. To silence this warning, set decode_timedelta to True, False, or a 'CFTimedeltaCoder' instance.\n",
      "  vars, attrs, coord_names = xr.conventions.decode_cf_variables(\n",
      "C:\\Users\\Mark.DESKTOP-UFHIN6T\\anaconda3\\envs\\ews_scoping\\Lib\\site-packages\\cfgrib\\xarray_plugin.py:131: FutureWarning: In a future version of xarray decode_timedelta will default to False rather than None. To silence this warning, set decode_timedelta to True, False, or a 'CFTimedeltaCoder' instance.\n",
      "  vars, attrs, coord_names = xr.conventions.decode_cf_variables(\n",
      "C:\\Users\\Mark.DESKTOP-UFHIN6T\\anaconda3\\envs\\ews_scoping\\Lib\\site-packages\\cfgrib\\xarray_plugin.py:131: FutureWarning: In a future version of xarray decode_timedelta will default to False rather than None. To silence this warning, set decode_timedelta to True, False, or a 'CFTimedeltaCoder' instance.\n",
      "  vars, attrs, coord_names = xr.conventions.decode_cf_variables(\n",
      "C:\\Users\\Mark.DESKTOP-UFHIN6T\\anaconda3\\envs\\ews_scoping\\Lib\\site-packages\\cfgrib\\xarray_plugin.py:131: FutureWarning: In a future version of xarray decode_timedelta will default to False rather than None. To silence this warning, set decode_timedelta to True, False, or a 'CFTimedeltaCoder' instance.\n",
      "  vars, attrs, coord_names = xr.conventions.decode_cf_variables(\n",
      "C:\\Users\\Mark.DESKTOP-UFHIN6T\\anaconda3\\envs\\ews_scoping\\Lib\\site-packages\\cfgrib\\xarray_plugin.py:131: FutureWarning: In a future version of xarray decode_timedelta will default to False rather than None. To silence this warning, set decode_timedelta to True, False, or a 'CFTimedeltaCoder' instance.\n",
      "  vars, attrs, coord_names = xr.conventions.decode_cf_variables(\n",
      "C:\\Users\\Mark.DESKTOP-UFHIN6T\\anaconda3\\envs\\ews_scoping\\Lib\\site-packages\\cfgrib\\xarray_plugin.py:131: FutureWarning: In a future version of xarray decode_timedelta will default to False rather than None. To silence this warning, set decode_timedelta to True, False, or a 'CFTimedeltaCoder' instance.\n",
      "  vars, attrs, coord_names = xr.conventions.decode_cf_variables(\n",
      "C:\\Users\\Mark.DESKTOP-UFHIN6T\\anaconda3\\envs\\ews_scoping\\Lib\\site-packages\\cfgrib\\xarray_plugin.py:131: FutureWarning: In a future version of xarray decode_timedelta will default to False rather than None. To silence this warning, set decode_timedelta to True, False, or a 'CFTimedeltaCoder' instance.\n",
      "  vars, attrs, coord_names = xr.conventions.decode_cf_variables(\n",
      "C:\\Users\\Mark.DESKTOP-UFHIN6T\\anaconda3\\envs\\ews_scoping\\Lib\\site-packages\\cfgrib\\xarray_plugin.py:131: FutureWarning: In a future version of xarray decode_timedelta will default to False rather than None. To silence this warning, set decode_timedelta to True, False, or a 'CFTimedeltaCoder' instance.\n",
      "  vars, attrs, coord_names = xr.conventions.decode_cf_variables(\n",
      "C:\\Users\\Mark.DESKTOP-UFHIN6T\\anaconda3\\envs\\ews_scoping\\Lib\\site-packages\\cfgrib\\xarray_plugin.py:131: FutureWarning: In a future version of xarray decode_timedelta will default to False rather than None. To silence this warning, set decode_timedelta to True, False, or a 'CFTimedeltaCoder' instance.\n",
      "  vars, attrs, coord_names = xr.conventions.decode_cf_variables(\n",
      "C:\\Users\\Mark.DESKTOP-UFHIN6T\\anaconda3\\envs\\ews_scoping\\Lib\\site-packages\\cfgrib\\xarray_plugin.py:131: FutureWarning: In a future version of xarray decode_timedelta will default to False rather than None. To silence this warning, set decode_timedelta to True, False, or a 'CFTimedeltaCoder' instance.\n",
      "  vars, attrs, coord_names = xr.conventions.decode_cf_variables(\n",
      "C:\\Users\\Mark.DESKTOP-UFHIN6T\\anaconda3\\envs\\ews_scoping\\Lib\\site-packages\\cfgrib\\xarray_plugin.py:131: FutureWarning: In a future version of xarray decode_timedelta will default to False rather than None. To silence this warning, set decode_timedelta to True, False, or a 'CFTimedeltaCoder' instance.\n",
      "  vars, attrs, coord_names = xr.conventions.decode_cf_variables(\n",
      "C:\\Users\\Mark.DESKTOP-UFHIN6T\\anaconda3\\envs\\ews_scoping\\Lib\\site-packages\\cfgrib\\xarray_plugin.py:131: FutureWarning: In a future version of xarray decode_timedelta will default to False rather than None. To silence this warning, set decode_timedelta to True, False, or a 'CFTimedeltaCoder' instance.\n",
      "  vars, attrs, coord_names = xr.conventions.decode_cf_variables(\n",
      "C:\\Users\\Mark.DESKTOP-UFHIN6T\\anaconda3\\envs\\ews_scoping\\Lib\\site-packages\\cfgrib\\xarray_plugin.py:131: FutureWarning: In a future version of xarray decode_timedelta will default to False rather than None. To silence this warning, set decode_timedelta to True, False, or a 'CFTimedeltaCoder' instance.\n",
      "  vars, attrs, coord_names = xr.conventions.decode_cf_variables(\n",
      "C:\\Users\\Mark.DESKTOP-UFHIN6T\\anaconda3\\envs\\ews_scoping\\Lib\\site-packages\\cfgrib\\xarray_plugin.py:131: FutureWarning: In a future version of xarray decode_timedelta will default to False rather than None. To silence this warning, set decode_timedelta to True, False, or a 'CFTimedeltaCoder' instance.\n",
      "  vars, attrs, coord_names = xr.conventions.decode_cf_variables(\n",
      "C:\\Users\\Mark.DESKTOP-UFHIN6T\\anaconda3\\envs\\ews_scoping\\Lib\\site-packages\\cfgrib\\xarray_plugin.py:131: FutureWarning: In a future version of xarray decode_timedelta will default to False rather than None. To silence this warning, set decode_timedelta to True, False, or a 'CFTimedeltaCoder' instance.\n",
      "  vars, attrs, coord_names = xr.conventions.decode_cf_variables(\n",
      "C:\\Users\\Mark.DESKTOP-UFHIN6T\\anaconda3\\envs\\ews_scoping\\Lib\\site-packages\\cfgrib\\xarray_plugin.py:131: FutureWarning: In a future version of xarray decode_timedelta will default to False rather than None. To silence this warning, set decode_timedelta to True, False, or a 'CFTimedeltaCoder' instance.\n",
      "  vars, attrs, coord_names = xr.conventions.decode_cf_variables(\n",
      "C:\\Users\\Mark.DESKTOP-UFHIN6T\\anaconda3\\envs\\ews_scoping\\Lib\\site-packages\\cfgrib\\xarray_plugin.py:131: FutureWarning: In a future version of xarray decode_timedelta will default to False rather than None. To silence this warning, set decode_timedelta to True, False, or a 'CFTimedeltaCoder' instance.\n",
      "  vars, attrs, coord_names = xr.conventions.decode_cf_variables(\n",
      "C:\\Users\\Mark.DESKTOP-UFHIN6T\\anaconda3\\envs\\ews_scoping\\Lib\\site-packages\\cfgrib\\xarray_plugin.py:131: FutureWarning: In a future version of xarray decode_timedelta will default to False rather than None. To silence this warning, set decode_timedelta to True, False, or a 'CFTimedeltaCoder' instance.\n",
      "  vars, attrs, coord_names = xr.conventions.decode_cf_variables(\n",
      "C:\\Users\\Mark.DESKTOP-UFHIN6T\\anaconda3\\envs\\ews_scoping\\Lib\\site-packages\\cfgrib\\xarray_plugin.py:131: FutureWarning: In a future version of xarray decode_timedelta will default to False rather than None. To silence this warning, set decode_timedelta to True, False, or a 'CFTimedeltaCoder' instance.\n",
      "  vars, attrs, coord_names = xr.conventions.decode_cf_variables(\n",
      "C:\\Users\\Mark.DESKTOP-UFHIN6T\\anaconda3\\envs\\ews_scoping\\Lib\\site-packages\\cfgrib\\xarray_plugin.py:131: FutureWarning: In a future version of xarray decode_timedelta will default to False rather than None. To silence this warning, set decode_timedelta to True, False, or a 'CFTimedeltaCoder' instance.\n",
      "  vars, attrs, coord_names = xr.conventions.decode_cf_variables(\n",
      "C:\\Users\\Mark.DESKTOP-UFHIN6T\\anaconda3\\envs\\ews_scoping\\Lib\\site-packages\\cfgrib\\xarray_plugin.py:131: FutureWarning: In a future version of xarray decode_timedelta will default to False rather than None. To silence this warning, set decode_timedelta to True, False, or a 'CFTimedeltaCoder' instance.\n",
      "  vars, attrs, coord_names = xr.conventions.decode_cf_variables(\n",
      "C:\\Users\\Mark.DESKTOP-UFHIN6T\\anaconda3\\envs\\ews_scoping\\Lib\\site-packages\\cfgrib\\xarray_plugin.py:131: FutureWarning: In a future version of xarray decode_timedelta will default to False rather than None. To silence this warning, set decode_timedelta to True, False, or a 'CFTimedeltaCoder' instance.\n",
      "  vars, attrs, coord_names = xr.conventions.decode_cf_variables(\n",
      "C:\\Users\\Mark.DESKTOP-UFHIN6T\\anaconda3\\envs\\ews_scoping\\Lib\\site-packages\\cfgrib\\xarray_plugin.py:131: FutureWarning: In a future version of xarray decode_timedelta will default to False rather than None. To silence this warning, set decode_timedelta to True, False, or a 'CFTimedeltaCoder' instance.\n",
      "  vars, attrs, coord_names = xr.conventions.decode_cf_variables(\n"
     ]
    },
    {
     "ename": "ValueError",
     "evalue": "unrecognized engine for to_netcdf: 'cfgrib'",
     "output_type": "error",
     "traceback": [
      "\u001b[31m---------------------------------------------------------------------------\u001b[39m",
      "\u001b[31mKeyError\u001b[39m                                  Traceback (most recent call last)",
      "\u001b[36mFile \u001b[39m\u001b[32m~\\anaconda3\\envs\\ews_scoping\\Lib\\site-packages\\xarray\\backends\\api.py:1881\u001b[39m, in \u001b[36mto_netcdf\u001b[39m\u001b[34m(dataset, path_or_file, mode, format, group, engine, encoding, unlimited_dims, compute, multifile, invalid_netcdf, auto_complex)\u001b[39m\n\u001b[32m   1880\u001b[39m \u001b[38;5;28;01mtry\u001b[39;00m:\n\u001b[32m-> \u001b[39m\u001b[32m1881\u001b[39m     store_open = \u001b[43mWRITEABLE_STORES\u001b[49m\u001b[43m[\u001b[49m\u001b[43mengine\u001b[49m\u001b[43m]\u001b[49m\n\u001b[32m   1882\u001b[39m \u001b[38;5;28;01mexcept\u001b[39;00m \u001b[38;5;167;01mKeyError\u001b[39;00m \u001b[38;5;28;01mas\u001b[39;00m err:\n",
      "\u001b[31mKeyError\u001b[39m: 'cfgrib'",
      "\nThe above exception was the direct cause of the following exception:\n",
      "\u001b[31mValueError\u001b[39m                                Traceback (most recent call last)",
      "\u001b[36mCell\u001b[39m\u001b[36m \u001b[39m\u001b[32mIn[5]\u001b[39m\u001b[32m, line 38\u001b[39m\n\u001b[32m     35\u001b[39m combined_dataset = combined_dataset.sortby(\u001b[33m'\u001b[39m\u001b[33mtime\u001b[39m\u001b[33m'\u001b[39m) \u001b[38;5;66;03m# datasets need to be sorted by time\u001b[39;00m\n\u001b[32m     37\u001b[39m \u001b[38;5;66;03m# Save combined dataset as a GRIB\u001b[39;00m\n\u001b[32m---> \u001b[39m\u001b[32m38\u001b[39m \u001b[43mcombined_dataset\u001b[49m\u001b[43m.\u001b[49m\u001b[43mto_netcdf\u001b[49m\u001b[43m(\u001b[49m\u001b[43mcombined_file\u001b[49m\u001b[43m,\u001b[49m\u001b[43m \u001b[49m\u001b[43mengine\u001b[49m\u001b[43m=\u001b[49m\u001b[33;43m'\u001b[39;49m\u001b[33;43mcfgrib\u001b[39;49m\u001b[33;43m'\u001b[39;49m\u001b[43m)\u001b[49m\n\u001b[32m     40\u001b[39m \u001b[38;5;66;03m# Close datasets to free up resources\u001b[39;00m\n\u001b[32m     41\u001b[39m \u001b[38;5;28;01mfor\u001b[39;00m ds \u001b[38;5;129;01min\u001b[39;00m datasets:\n",
      "\u001b[36mFile \u001b[39m\u001b[32m~\\anaconda3\\envs\\ews_scoping\\Lib\\site-packages\\xarray\\core\\dataset.py:2380\u001b[39m, in \u001b[36mDataset.to_netcdf\u001b[39m\u001b[34m(self, path, mode, format, group, engine, encoding, unlimited_dims, compute, invalid_netcdf, auto_complex)\u001b[39m\n\u001b[32m   2377\u001b[39m     encoding = {}\n\u001b[32m   2378\u001b[39m \u001b[38;5;28;01mfrom\u001b[39;00m\u001b[38;5;250m \u001b[39m\u001b[34;01mxarray\u001b[39;00m\u001b[34;01m.\u001b[39;00m\u001b[34;01mbackends\u001b[39;00m\u001b[34;01m.\u001b[39;00m\u001b[34;01mapi\u001b[39;00m\u001b[38;5;250m \u001b[39m\u001b[38;5;28;01mimport\u001b[39;00m to_netcdf\n\u001b[32m-> \u001b[39m\u001b[32m2380\u001b[39m \u001b[38;5;28;01mreturn\u001b[39;00m \u001b[43mto_netcdf\u001b[49m\u001b[43m(\u001b[49m\u001b[43m  \u001b[49m\u001b[38;5;66;43;03m# type: ignore[return-value]  # mypy cannot resolve the overloads:(\u001b[39;49;00m\n\u001b[32m   2381\u001b[39m \u001b[43m    \u001b[49m\u001b[38;5;28;43mself\u001b[39;49m\u001b[43m,\u001b[49m\n\u001b[32m   2382\u001b[39m \u001b[43m    \u001b[49m\u001b[43mpath\u001b[49m\u001b[43m,\u001b[49m\n\u001b[32m   2383\u001b[39m \u001b[43m    \u001b[49m\u001b[43mmode\u001b[49m\u001b[43m=\u001b[49m\u001b[43mmode\u001b[49m\u001b[43m,\u001b[49m\n\u001b[32m   2384\u001b[39m \u001b[43m    \u001b[49m\u001b[38;5;28;43mformat\u001b[39;49m\u001b[43m=\u001b[49m\u001b[38;5;28;43mformat\u001b[39;49m\u001b[43m,\u001b[49m\n\u001b[32m   2385\u001b[39m \u001b[43m    \u001b[49m\u001b[43mgroup\u001b[49m\u001b[43m=\u001b[49m\u001b[43mgroup\u001b[49m\u001b[43m,\u001b[49m\n\u001b[32m   2386\u001b[39m \u001b[43m    \u001b[49m\u001b[43mengine\u001b[49m\u001b[43m=\u001b[49m\u001b[43mengine\u001b[49m\u001b[43m,\u001b[49m\n\u001b[32m   2387\u001b[39m \u001b[43m    \u001b[49m\u001b[43mencoding\u001b[49m\u001b[43m=\u001b[49m\u001b[43mencoding\u001b[49m\u001b[43m,\u001b[49m\n\u001b[32m   2388\u001b[39m \u001b[43m    \u001b[49m\u001b[43munlimited_dims\u001b[49m\u001b[43m=\u001b[49m\u001b[43munlimited_dims\u001b[49m\u001b[43m,\u001b[49m\n\u001b[32m   2389\u001b[39m \u001b[43m    \u001b[49m\u001b[43mcompute\u001b[49m\u001b[43m=\u001b[49m\u001b[43mcompute\u001b[49m\u001b[43m,\u001b[49m\n\u001b[32m   2390\u001b[39m \u001b[43m    \u001b[49m\u001b[43mmultifile\u001b[49m\u001b[43m=\u001b[49m\u001b[38;5;28;43;01mFalse\u001b[39;49;00m\u001b[43m,\u001b[49m\n\u001b[32m   2391\u001b[39m \u001b[43m    \u001b[49m\u001b[43minvalid_netcdf\u001b[49m\u001b[43m=\u001b[49m\u001b[43minvalid_netcdf\u001b[49m\u001b[43m,\u001b[49m\n\u001b[32m   2392\u001b[39m \u001b[43m    \u001b[49m\u001b[43mauto_complex\u001b[49m\u001b[43m=\u001b[49m\u001b[43mauto_complex\u001b[49m\u001b[43m,\u001b[49m\n\u001b[32m   2393\u001b[39m \u001b[43m\u001b[49m\u001b[43m)\u001b[49m\n",
      "\u001b[36mFile \u001b[39m\u001b[32m~\\anaconda3\\envs\\ews_scoping\\Lib\\site-packages\\xarray\\backends\\api.py:1883\u001b[39m, in \u001b[36mto_netcdf\u001b[39m\u001b[34m(dataset, path_or_file, mode, format, group, engine, encoding, unlimited_dims, compute, multifile, invalid_netcdf, auto_complex)\u001b[39m\n\u001b[32m   1881\u001b[39m     store_open = WRITEABLE_STORES[engine]\n\u001b[32m   1882\u001b[39m \u001b[38;5;28;01mexcept\u001b[39;00m \u001b[38;5;167;01mKeyError\u001b[39;00m \u001b[38;5;28;01mas\u001b[39;00m err:\n\u001b[32m-> \u001b[39m\u001b[32m1883\u001b[39m     \u001b[38;5;28;01mraise\u001b[39;00m \u001b[38;5;167;01mValueError\u001b[39;00m(\u001b[33mf\u001b[39m\u001b[33m\"\u001b[39m\u001b[33munrecognized engine for to_netcdf: \u001b[39m\u001b[38;5;132;01m{\u001b[39;00mengine\u001b[38;5;132;01m!r}\u001b[39;00m\u001b[33m\"\u001b[39m) \u001b[38;5;28;01mfrom\u001b[39;00m\u001b[38;5;250m \u001b[39m\u001b[34;01merr\u001b[39;00m\n\u001b[32m   1885\u001b[39m \u001b[38;5;28;01mif\u001b[39;00m \u001b[38;5;28mformat\u001b[39m \u001b[38;5;129;01mis\u001b[39;00m \u001b[38;5;129;01mnot\u001b[39;00m \u001b[38;5;28;01mNone\u001b[39;00m:\n\u001b[32m   1886\u001b[39m     \u001b[38;5;28mformat\u001b[39m = \u001b[38;5;28mformat\u001b[39m.upper()  \u001b[38;5;66;03m# type: ignore[assignment]\u001b[39;00m\n",
      "\u001b[31mValueError\u001b[39m: unrecognized engine for to_netcdf: 'cfgrib'"
     ]
    }
   ],
   "source": [
    "# Will download datat from start of GloFAS (1979) until 2025\n",
    "# Note: for this to run, you must have set up CDS API - see https://ewds.climate.copernicus.eu/how-to-api\n",
    "# What time period are we interested in? \n",
    "start_year = 1979\n",
    "end_year = 2024\n",
    "combined_file = f\"{DATADIR}/glofas-{start_year}_{end_year}.grib\" # final file name\n",
    "# Only run if combined file doesn't already exist\n",
    "if not os.path.isfile(combined_file): \n",
    "    file_list = [] # empty list to store intermediate files that we will delet later\n",
    "    for year in range(start_year, end_year+1):\n",
    "        download_file = f\"{DATADIR}/glofas-{year}.grib\"\n",
    "        if not os.path.isfile(download_file):\n",
    "            c = cdsapi.Client()\n",
    "            DATASET=\"cems-glofas-historical\"\n",
    "            REQUEST= {\n",
    "                    \"system_version\": [\"version_4_0\"],\n",
    "                    \"hydrological_model\": [\"lisflood\"],\n",
    "                    \"product_type\": [\"consolidated\"],\n",
    "                    \"variable\": [\"river_discharge_in_the_last_24_hours\"],\n",
    "                    \"hyear\": [f\"{year}\"],\n",
    "                    \"hmonth\": [f\"{month:02d}\" for month in range (1, 13)],\n",
    "                    \"hday\": [f\"{day:02d}\" for day in range(1,32)],\n",
    "                    \"data_format\": \"grib2\",\n",
    "                    \"download_format\": \"unarchived\",\n",
    "                    \"area\": kenya_bbox\n",
    "                     }\n",
    "            c.retrieve(DATASET,REQUEST).download(download_file)\n",
    "        # Add completed file to file list\n",
    "        file_list.append(download_file)\n",
    "        \n",
    "    # Combine datasets\n",
    "    all_files = [f\"{DATADIR}/glofas-{year}.grib\" for year in range(start_year, end_year+1)]\n",
    "    datasets = [xr.open_dataset(file, engine='cfgrib') for file in all_files]\n",
    "    combined_dataset = xr.concat(datasets, dim='time')\n",
    "    combined_dataset = combined_dataset.sortby('time') # datasets need to be sorted by time\n",
    "\n",
    "    # Save combined dataset as a GRIB\n",
    "    combined_dataset.to_netcdf(combined_file, engine='cfgrib')\n",
    "\n",
    "    # Close datasets to free up resources\n",
    "    for ds in datasets:\n",
    "        ds.close()\n",
    "\n",
    "    # Delete temporary files\n",
    "    for file in file_list:\n",
    "        if os.path.isfile(file):\n",
    "            os.remove(file)"
   ]
  },
  {
   "cell_type": "code",
   "execution_count": 9,
   "id": "c2858109-5b32-4c9f-bb20-40919eb8421d",
   "metadata": {},
   "outputs": [
    {
     "name": "stderr",
     "output_type": "stream",
     "text": [
      "C:\\Users\\Mark.DESKTOP-UFHIN6T\\anaconda3\\envs\\ews_scoping\\Lib\\site-packages\\cfgrib\\xarray_plugin.py:131: FutureWarning: In a future version of xarray decode_timedelta will default to False rather than None. To silence this warning, set decode_timedelta to True, False, or a 'CFTimedeltaCoder' instance.\n",
      "  vars, attrs, coord_names = xr.conventions.decode_cf_variables(\n"
     ]
    },
    {
     "data": {
      "text/html": [
       "<div><svg style=\"position: absolute; width: 0; height: 0; overflow: hidden\">\n",
       "<defs>\n",
       "<symbol id=\"icon-database\" viewBox=\"0 0 32 32\">\n",
       "<path d=\"M16 0c-8.837 0-16 2.239-16 5v4c0 2.761 7.163 5 16 5s16-2.239 16-5v-4c0-2.761-7.163-5-16-5z\"></path>\n",
       "<path d=\"M16 17c-8.837 0-16-2.239-16-5v6c0 2.761 7.163 5 16 5s16-2.239 16-5v-6c0 2.761-7.163 5-16 5z\"></path>\n",
       "<path d=\"M16 26c-8.837 0-16-2.239-16-5v6c0 2.761 7.163 5 16 5s16-2.239 16-5v-6c0 2.761-7.163 5-16 5z\"></path>\n",
       "</symbol>\n",
       "<symbol id=\"icon-file-text2\" viewBox=\"0 0 32 32\">\n",
       "<path d=\"M28.681 7.159c-0.694-0.947-1.662-2.053-2.724-3.116s-2.169-2.030-3.116-2.724c-1.612-1.182-2.393-1.319-2.841-1.319h-15.5c-1.378 0-2.5 1.121-2.5 2.5v27c0 1.378 1.122 2.5 2.5 2.5h23c1.378 0 2.5-1.122 2.5-2.5v-19.5c0-0.448-0.137-1.23-1.319-2.841zM24.543 5.457c0.959 0.959 1.712 1.825 2.268 2.543h-4.811v-4.811c0.718 0.556 1.584 1.309 2.543 2.268zM28 29.5c0 0.271-0.229 0.5-0.5 0.5h-23c-0.271 0-0.5-0.229-0.5-0.5v-27c0-0.271 0.229-0.5 0.5-0.5 0 0 15.499-0 15.5 0v7c0 0.552 0.448 1 1 1h7v19.5z\"></path>\n",
       "<path d=\"M23 26h-14c-0.552 0-1-0.448-1-1s0.448-1 1-1h14c0.552 0 1 0.448 1 1s-0.448 1-1 1z\"></path>\n",
       "<path d=\"M23 22h-14c-0.552 0-1-0.448-1-1s0.448-1 1-1h14c0.552 0 1 0.448 1 1s-0.448 1-1 1z\"></path>\n",
       "<path d=\"M23 18h-14c-0.552 0-1-0.448-1-1s0.448-1 1-1h14c0.552 0 1 0.448 1 1s-0.448 1-1 1z\"></path>\n",
       "</symbol>\n",
       "</defs>\n",
       "</svg>\n",
       "<style>/* CSS stylesheet for displaying xarray objects in jupyterlab.\n",
       " *\n",
       " */\n",
       "\n",
       ":root {\n",
       "  --xr-font-color0: var(--jp-content-font-color0, rgba(0, 0, 0, 1));\n",
       "  --xr-font-color2: var(--jp-content-font-color2, rgba(0, 0, 0, 0.54));\n",
       "  --xr-font-color3: var(--jp-content-font-color3, rgba(0, 0, 0, 0.38));\n",
       "  --xr-border-color: var(--jp-border-color2, #e0e0e0);\n",
       "  --xr-disabled-color: var(--jp-layout-color3, #bdbdbd);\n",
       "  --xr-background-color: var(--jp-layout-color0, white);\n",
       "  --xr-background-color-row-even: var(--jp-layout-color1, white);\n",
       "  --xr-background-color-row-odd: var(--jp-layout-color2, #eeeeee);\n",
       "}\n",
       "\n",
       "html[theme=\"dark\"],\n",
       "html[data-theme=\"dark\"],\n",
       "body[data-theme=\"dark\"],\n",
       "body.vscode-dark {\n",
       "  --xr-font-color0: rgba(255, 255, 255, 1);\n",
       "  --xr-font-color2: rgba(255, 255, 255, 0.54);\n",
       "  --xr-font-color3: rgba(255, 255, 255, 0.38);\n",
       "  --xr-border-color: #1f1f1f;\n",
       "  --xr-disabled-color: #515151;\n",
       "  --xr-background-color: #111111;\n",
       "  --xr-background-color-row-even: #111111;\n",
       "  --xr-background-color-row-odd: #313131;\n",
       "}\n",
       "\n",
       ".xr-wrap {\n",
       "  display: block !important;\n",
       "  min-width: 300px;\n",
       "  max-width: 700px;\n",
       "}\n",
       "\n",
       ".xr-text-repr-fallback {\n",
       "  /* fallback to plain text repr when CSS is not injected (untrusted notebook) */\n",
       "  display: none;\n",
       "}\n",
       "\n",
       ".xr-header {\n",
       "  padding-top: 6px;\n",
       "  padding-bottom: 6px;\n",
       "  margin-bottom: 4px;\n",
       "  border-bottom: solid 1px var(--xr-border-color);\n",
       "}\n",
       "\n",
       ".xr-header > div,\n",
       ".xr-header > ul {\n",
       "  display: inline;\n",
       "  margin-top: 0;\n",
       "  margin-bottom: 0;\n",
       "}\n",
       "\n",
       ".xr-obj-type,\n",
       ".xr-array-name {\n",
       "  margin-left: 2px;\n",
       "  margin-right: 10px;\n",
       "}\n",
       "\n",
       ".xr-obj-type {\n",
       "  color: var(--xr-font-color2);\n",
       "}\n",
       "\n",
       ".xr-sections {\n",
       "  padding-left: 0 !important;\n",
       "  display: grid;\n",
       "  grid-template-columns: 150px auto auto 1fr 0 20px 0 20px;\n",
       "}\n",
       "\n",
       ".xr-section-item {\n",
       "  display: contents;\n",
       "}\n",
       "\n",
       ".xr-section-item input {\n",
       "  display: inline-block;\n",
       "  opacity: 0;\n",
       "  height: 0;\n",
       "}\n",
       "\n",
       ".xr-section-item input + label {\n",
       "  color: var(--xr-disabled-color);\n",
       "}\n",
       "\n",
       ".xr-section-item input:enabled + label {\n",
       "  cursor: pointer;\n",
       "  color: var(--xr-font-color2);\n",
       "}\n",
       "\n",
       ".xr-section-item input:focus + label {\n",
       "  border: 2px solid var(--xr-font-color0);\n",
       "}\n",
       "\n",
       ".xr-section-item input:enabled + label:hover {\n",
       "  color: var(--xr-font-color0);\n",
       "}\n",
       "\n",
       ".xr-section-summary {\n",
       "  grid-column: 1;\n",
       "  color: var(--xr-font-color2);\n",
       "  font-weight: 500;\n",
       "}\n",
       "\n",
       ".xr-section-summary > span {\n",
       "  display: inline-block;\n",
       "  padding-left: 0.5em;\n",
       "}\n",
       "\n",
       ".xr-section-summary-in:disabled + label {\n",
       "  color: var(--xr-font-color2);\n",
       "}\n",
       "\n",
       ".xr-section-summary-in + label:before {\n",
       "  display: inline-block;\n",
       "  content: \"►\";\n",
       "  font-size: 11px;\n",
       "  width: 15px;\n",
       "  text-align: center;\n",
       "}\n",
       "\n",
       ".xr-section-summary-in:disabled + label:before {\n",
       "  color: var(--xr-disabled-color);\n",
       "}\n",
       "\n",
       ".xr-section-summary-in:checked + label:before {\n",
       "  content: \"▼\";\n",
       "}\n",
       "\n",
       ".xr-section-summary-in:checked + label > span {\n",
       "  display: none;\n",
       "}\n",
       "\n",
       ".xr-section-summary,\n",
       ".xr-section-inline-details {\n",
       "  padding-top: 4px;\n",
       "  padding-bottom: 4px;\n",
       "}\n",
       "\n",
       ".xr-section-inline-details {\n",
       "  grid-column: 2 / -1;\n",
       "}\n",
       "\n",
       ".xr-section-details {\n",
       "  display: none;\n",
       "  grid-column: 1 / -1;\n",
       "  margin-bottom: 5px;\n",
       "}\n",
       "\n",
       ".xr-section-summary-in:checked ~ .xr-section-details {\n",
       "  display: contents;\n",
       "}\n",
       "\n",
       ".xr-array-wrap {\n",
       "  grid-column: 1 / -1;\n",
       "  display: grid;\n",
       "  grid-template-columns: 20px auto;\n",
       "}\n",
       "\n",
       ".xr-array-wrap > label {\n",
       "  grid-column: 1;\n",
       "  vertical-align: top;\n",
       "}\n",
       "\n",
       ".xr-preview {\n",
       "  color: var(--xr-font-color3);\n",
       "}\n",
       "\n",
       ".xr-array-preview,\n",
       ".xr-array-data {\n",
       "  padding: 0 5px !important;\n",
       "  grid-column: 2;\n",
       "}\n",
       "\n",
       ".xr-array-data,\n",
       ".xr-array-in:checked ~ .xr-array-preview {\n",
       "  display: none;\n",
       "}\n",
       "\n",
       ".xr-array-in:checked ~ .xr-array-data,\n",
       ".xr-array-preview {\n",
       "  display: inline-block;\n",
       "}\n",
       "\n",
       ".xr-dim-list {\n",
       "  display: inline-block !important;\n",
       "  list-style: none;\n",
       "  padding: 0 !important;\n",
       "  margin: 0;\n",
       "}\n",
       "\n",
       ".xr-dim-list li {\n",
       "  display: inline-block;\n",
       "  padding: 0;\n",
       "  margin: 0;\n",
       "}\n",
       "\n",
       ".xr-dim-list:before {\n",
       "  content: \"(\";\n",
       "}\n",
       "\n",
       ".xr-dim-list:after {\n",
       "  content: \")\";\n",
       "}\n",
       "\n",
       ".xr-dim-list li:not(:last-child):after {\n",
       "  content: \",\";\n",
       "  padding-right: 5px;\n",
       "}\n",
       "\n",
       ".xr-has-index {\n",
       "  font-weight: bold;\n",
       "}\n",
       "\n",
       ".xr-var-list,\n",
       ".xr-var-item {\n",
       "  display: contents;\n",
       "}\n",
       "\n",
       ".xr-var-item > div,\n",
       ".xr-var-item label,\n",
       ".xr-var-item > .xr-var-name span {\n",
       "  background-color: var(--xr-background-color-row-even);\n",
       "  margin-bottom: 0;\n",
       "}\n",
       "\n",
       ".xr-var-item > .xr-var-name:hover span {\n",
       "  padding-right: 5px;\n",
       "}\n",
       "\n",
       ".xr-var-list > li:nth-child(odd) > div,\n",
       ".xr-var-list > li:nth-child(odd) > label,\n",
       ".xr-var-list > li:nth-child(odd) > .xr-var-name span {\n",
       "  background-color: var(--xr-background-color-row-odd);\n",
       "}\n",
       "\n",
       ".xr-var-name {\n",
       "  grid-column: 1;\n",
       "}\n",
       "\n",
       ".xr-var-dims {\n",
       "  grid-column: 2;\n",
       "}\n",
       "\n",
       ".xr-var-dtype {\n",
       "  grid-column: 3;\n",
       "  text-align: right;\n",
       "  color: var(--xr-font-color2);\n",
       "}\n",
       "\n",
       ".xr-var-preview {\n",
       "  grid-column: 4;\n",
       "}\n",
       "\n",
       ".xr-index-preview {\n",
       "  grid-column: 2 / 5;\n",
       "  color: var(--xr-font-color2);\n",
       "}\n",
       "\n",
       ".xr-var-name,\n",
       ".xr-var-dims,\n",
       ".xr-var-dtype,\n",
       ".xr-preview,\n",
       ".xr-attrs dt {\n",
       "  white-space: nowrap;\n",
       "  overflow: hidden;\n",
       "  text-overflow: ellipsis;\n",
       "  padding-right: 10px;\n",
       "}\n",
       "\n",
       ".xr-var-name:hover,\n",
       ".xr-var-dims:hover,\n",
       ".xr-var-dtype:hover,\n",
       ".xr-attrs dt:hover {\n",
       "  overflow: visible;\n",
       "  width: auto;\n",
       "  z-index: 1;\n",
       "}\n",
       "\n",
       ".xr-var-attrs,\n",
       ".xr-var-data,\n",
       ".xr-index-data {\n",
       "  display: none;\n",
       "  background-color: var(--xr-background-color) !important;\n",
       "  padding-bottom: 5px !important;\n",
       "}\n",
       "\n",
       ".xr-var-attrs-in:checked ~ .xr-var-attrs,\n",
       ".xr-var-data-in:checked ~ .xr-var-data,\n",
       ".xr-index-data-in:checked ~ .xr-index-data {\n",
       "  display: block;\n",
       "}\n",
       "\n",
       ".xr-var-data > table {\n",
       "  float: right;\n",
       "}\n",
       "\n",
       ".xr-var-name span,\n",
       ".xr-var-data,\n",
       ".xr-index-name div,\n",
       ".xr-index-data,\n",
       ".xr-attrs {\n",
       "  padding-left: 25px !important;\n",
       "}\n",
       "\n",
       ".xr-attrs,\n",
       ".xr-var-attrs,\n",
       ".xr-var-data,\n",
       ".xr-index-data {\n",
       "  grid-column: 1 / -1;\n",
       "}\n",
       "\n",
       "dl.xr-attrs {\n",
       "  padding: 0;\n",
       "  margin: 0;\n",
       "  display: grid;\n",
       "  grid-template-columns: 125px auto;\n",
       "}\n",
       "\n",
       ".xr-attrs dt,\n",
       ".xr-attrs dd {\n",
       "  padding: 0;\n",
       "  margin: 0;\n",
       "  float: left;\n",
       "  padding-right: 10px;\n",
       "  width: auto;\n",
       "}\n",
       "\n",
       ".xr-attrs dt {\n",
       "  font-weight: normal;\n",
       "  grid-column: 1;\n",
       "}\n",
       "\n",
       ".xr-attrs dt:hover span {\n",
       "  display: inline-block;\n",
       "  background: var(--xr-background-color);\n",
       "  padding-right: 10px;\n",
       "}\n",
       "\n",
       ".xr-attrs dd {\n",
       "  grid-column: 2;\n",
       "  white-space: pre-wrap;\n",
       "  word-break: break-all;\n",
       "}\n",
       "\n",
       ".xr-icon-database,\n",
       ".xr-icon-file-text2,\n",
       ".xr-no-icon {\n",
       "  display: inline-block;\n",
       "  vertical-align: middle;\n",
       "  width: 1em;\n",
       "  height: 1.5em !important;\n",
       "  stroke-width: 0;\n",
       "  stroke: currentColor;\n",
       "  fill: currentColor;\n",
       "}\n",
       "</style><pre class='xr-text-repr-fallback'>&lt;xarray.Dataset&gt; Size: 44MB\n",
       "Dimensions:     (time: 366, latitude: 204, longitude: 146)\n",
       "Coordinates:\n",
       "  * time        (time) datetime64[ns] 3kB 2024-01-01 2024-01-02 ... 2024-12-31\n",
       "    step        timedelta64[ns] 8B ...\n",
       "    surface     float64 8B ...\n",
       "  * latitude    (latitude) float64 2kB 5.475 5.425 5.375 ... -4.625 -4.675\n",
       "  * longitude   (longitude) float64 1kB 33.92 33.97 34.02 ... 41.07 41.12 41.17\n",
       "    valid_time  (time) datetime64[ns] 3kB ...\n",
       "Data variables:\n",
       "    dis24       (time, latitude, longitude) float32 44MB ...\n",
       "Attributes:\n",
       "    GRIB_edition:            2\n",
       "    GRIB_centre:             ecmf\n",
       "    GRIB_centreDescription:  European Centre for Medium-Range Weather Forecasts\n",
       "    GRIB_subCentre:          0\n",
       "    Conventions:             CF-1.7\n",
       "    institution:             European Centre for Medium-Range Weather Forecasts\n",
       "    history:                 2025-03-13T12:00 GRIB to CDM+CF via cfgrib-0.9.1...</pre><div class='xr-wrap' style='display:none'><div class='xr-header'><div class='xr-obj-type'>xarray.Dataset</div></div><ul class='xr-sections'><li class='xr-section-item'><input id='section-1f88f799-4f4c-49ba-8408-71e40634cfce' class='xr-section-summary-in' type='checkbox' disabled ><label for='section-1f88f799-4f4c-49ba-8408-71e40634cfce' class='xr-section-summary'  title='Expand/collapse section'>Dimensions:</label><div class='xr-section-inline-details'><ul class='xr-dim-list'><li><span class='xr-has-index'>time</span>: 366</li><li><span class='xr-has-index'>latitude</span>: 204</li><li><span class='xr-has-index'>longitude</span>: 146</li></ul></div><div class='xr-section-details'></div></li><li class='xr-section-item'><input id='section-4668e69f-3b2d-4364-8de7-e98d893cfa5b' class='xr-section-summary-in' type='checkbox'  checked><label for='section-4668e69f-3b2d-4364-8de7-e98d893cfa5b' class='xr-section-summary' >Coordinates: <span>(6)</span></label><div class='xr-section-inline-details'></div><div class='xr-section-details'><ul class='xr-var-list'><li class='xr-var-item'><div class='xr-var-name'><span class='xr-has-index'>time</span></div><div class='xr-var-dims'>(time)</div><div class='xr-var-dtype'>datetime64[ns]</div><div class='xr-var-preview xr-preview'>2024-01-01 ... 2024-12-31</div><input id='attrs-70013466-54e6-4898-a3b9-144efa5d2c47' class='xr-var-attrs-in' type='checkbox' ><label for='attrs-70013466-54e6-4898-a3b9-144efa5d2c47' title='Show/Hide attributes'><svg class='icon xr-icon-file-text2'><use xlink:href='#icon-file-text2'></use></svg></label><input id='data-334df002-ad6b-4708-a128-4cf8d8760368' class='xr-var-data-in' type='checkbox'><label for='data-334df002-ad6b-4708-a128-4cf8d8760368' title='Show/Hide data repr'><svg class='icon xr-icon-database'><use xlink:href='#icon-database'></use></svg></label><div class='xr-var-attrs'><dl class='xr-attrs'><dt><span>long_name :</span></dt><dd>initial time of forecast</dd><dt><span>standard_name :</span></dt><dd>forecast_reference_time</dd></dl></div><div class='xr-var-data'><pre>array([&#x27;2024-01-01T00:00:00.000000000&#x27;, &#x27;2024-01-02T00:00:00.000000000&#x27;,\n",
       "       &#x27;2024-01-03T00:00:00.000000000&#x27;, ..., &#x27;2024-12-29T00:00:00.000000000&#x27;,\n",
       "       &#x27;2024-12-30T00:00:00.000000000&#x27;, &#x27;2024-12-31T00:00:00.000000000&#x27;],\n",
       "      shape=(366,), dtype=&#x27;datetime64[ns]&#x27;)</pre></div></li><li class='xr-var-item'><div class='xr-var-name'><span>step</span></div><div class='xr-var-dims'>()</div><div class='xr-var-dtype'>timedelta64[ns]</div><div class='xr-var-preview xr-preview'>...</div><input id='attrs-da1c9e08-2502-4fce-9bbd-a09892109b8b' class='xr-var-attrs-in' type='checkbox' ><label for='attrs-da1c9e08-2502-4fce-9bbd-a09892109b8b' title='Show/Hide attributes'><svg class='icon xr-icon-file-text2'><use xlink:href='#icon-file-text2'></use></svg></label><input id='data-5b7d459e-0399-45a4-a836-5741427c64fa' class='xr-var-data-in' type='checkbox'><label for='data-5b7d459e-0399-45a4-a836-5741427c64fa' title='Show/Hide data repr'><svg class='icon xr-icon-database'><use xlink:href='#icon-database'></use></svg></label><div class='xr-var-attrs'><dl class='xr-attrs'><dt><span>long_name :</span></dt><dd>time since forecast_reference_time</dd><dt><span>standard_name :</span></dt><dd>forecast_period</dd></dl></div><div class='xr-var-data'><pre>[1 values with dtype=timedelta64[ns]]</pre></div></li><li class='xr-var-item'><div class='xr-var-name'><span>surface</span></div><div class='xr-var-dims'>()</div><div class='xr-var-dtype'>float64</div><div class='xr-var-preview xr-preview'>...</div><input id='attrs-12ac602c-a9c4-4505-96ed-dad841771a91' class='xr-var-attrs-in' type='checkbox' ><label for='attrs-12ac602c-a9c4-4505-96ed-dad841771a91' title='Show/Hide attributes'><svg class='icon xr-icon-file-text2'><use xlink:href='#icon-file-text2'></use></svg></label><input id='data-e3cabbe0-baec-4934-8668-a164d33a009b' class='xr-var-data-in' type='checkbox'><label for='data-e3cabbe0-baec-4934-8668-a164d33a009b' title='Show/Hide data repr'><svg class='icon xr-icon-database'><use xlink:href='#icon-database'></use></svg></label><div class='xr-var-attrs'><dl class='xr-attrs'><dt><span>long_name :</span></dt><dd>original GRIB coordinate for key: level(surface)</dd><dt><span>units :</span></dt><dd>1</dd></dl></div><div class='xr-var-data'><pre>[1 values with dtype=float64]</pre></div></li><li class='xr-var-item'><div class='xr-var-name'><span class='xr-has-index'>latitude</span></div><div class='xr-var-dims'>(latitude)</div><div class='xr-var-dtype'>float64</div><div class='xr-var-preview xr-preview'>5.475 5.425 5.375 ... -4.625 -4.675</div><input id='attrs-6282ef95-5e13-4713-a95b-26e8142979e8' class='xr-var-attrs-in' type='checkbox' ><label for='attrs-6282ef95-5e13-4713-a95b-26e8142979e8' title='Show/Hide attributes'><svg class='icon xr-icon-file-text2'><use xlink:href='#icon-file-text2'></use></svg></label><input id='data-485b5ec1-13f8-4fc9-bff9-c69c3ab437fb' class='xr-var-data-in' type='checkbox'><label for='data-485b5ec1-13f8-4fc9-bff9-c69c3ab437fb' title='Show/Hide data repr'><svg class='icon xr-icon-database'><use xlink:href='#icon-database'></use></svg></label><div class='xr-var-attrs'><dl class='xr-attrs'><dt><span>units :</span></dt><dd>degrees_north</dd><dt><span>standard_name :</span></dt><dd>latitude</dd><dt><span>long_name :</span></dt><dd>latitude</dd><dt><span>stored_direction :</span></dt><dd>decreasing</dd></dl></div><div class='xr-var-data'><pre>array([ 5.475,  5.425,  5.375, ..., -4.575, -4.625, -4.675], shape=(204,))</pre></div></li><li class='xr-var-item'><div class='xr-var-name'><span class='xr-has-index'>longitude</span></div><div class='xr-var-dims'>(longitude)</div><div class='xr-var-dtype'>float64</div><div class='xr-var-preview xr-preview'>33.92 33.97 34.02 ... 41.12 41.17</div><input id='attrs-bd2ce707-903e-4ed1-891e-3d26cf6b9f9a' class='xr-var-attrs-in' type='checkbox' ><label for='attrs-bd2ce707-903e-4ed1-891e-3d26cf6b9f9a' title='Show/Hide attributes'><svg class='icon xr-icon-file-text2'><use xlink:href='#icon-file-text2'></use></svg></label><input id='data-c286796b-3b18-4589-bf63-a76d131ffddf' class='xr-var-data-in' type='checkbox'><label for='data-c286796b-3b18-4589-bf63-a76d131ffddf' title='Show/Hide data repr'><svg class='icon xr-icon-database'><use xlink:href='#icon-database'></use></svg></label><div class='xr-var-attrs'><dl class='xr-attrs'><dt><span>units :</span></dt><dd>degrees_east</dd><dt><span>standard_name :</span></dt><dd>longitude</dd><dt><span>long_name :</span></dt><dd>longitude</dd></dl></div><div class='xr-var-data'><pre>array([33.925, 33.975, 34.025, 34.075, 34.125, 34.175, 34.225, 34.275, 34.325,\n",
       "       34.375, 34.425, 34.475, 34.525, 34.575, 34.625, 34.675, 34.725, 34.775,\n",
       "       34.825, 34.875, 34.925, 34.975, 35.025, 35.075, 35.125, 35.175, 35.225,\n",
       "       35.275, 35.325, 35.375, 35.425, 35.475, 35.525, 35.575, 35.625, 35.675,\n",
       "       35.725, 35.775, 35.825, 35.875, 35.925, 35.975, 36.025, 36.075, 36.125,\n",
       "       36.175, 36.225, 36.275, 36.325, 36.375, 36.425, 36.475, 36.525, 36.575,\n",
       "       36.625, 36.675, 36.725, 36.775, 36.825, 36.875, 36.925, 36.975, 37.025,\n",
       "       37.075, 37.125, 37.175, 37.225, 37.275, 37.325, 37.375, 37.425, 37.475,\n",
       "       37.525, 37.575, 37.625, 37.675, 37.725, 37.775, 37.825, 37.875, 37.925,\n",
       "       37.975, 38.025, 38.075, 38.125, 38.175, 38.225, 38.275, 38.325, 38.375,\n",
       "       38.425, 38.475, 38.525, 38.575, 38.625, 38.675, 38.725, 38.775, 38.825,\n",
       "       38.875, 38.925, 38.975, 39.025, 39.075, 39.125, 39.175, 39.225, 39.275,\n",
       "       39.325, 39.375, 39.425, 39.475, 39.525, 39.575, 39.625, 39.675, 39.725,\n",
       "       39.775, 39.825, 39.875, 39.925, 39.975, 40.025, 40.075, 40.125, 40.175,\n",
       "       40.225, 40.275, 40.325, 40.375, 40.425, 40.475, 40.525, 40.575, 40.625,\n",
       "       40.675, 40.725, 40.775, 40.825, 40.875, 40.925, 40.975, 41.025, 41.075,\n",
       "       41.125, 41.175])</pre></div></li><li class='xr-var-item'><div class='xr-var-name'><span>valid_time</span></div><div class='xr-var-dims'>(time)</div><div class='xr-var-dtype'>datetime64[ns]</div><div class='xr-var-preview xr-preview'>...</div><input id='attrs-ed39065d-cc4d-4a81-959e-47edbad02c84' class='xr-var-attrs-in' type='checkbox' ><label for='attrs-ed39065d-cc4d-4a81-959e-47edbad02c84' title='Show/Hide attributes'><svg class='icon xr-icon-file-text2'><use xlink:href='#icon-file-text2'></use></svg></label><input id='data-909dec2c-1bbe-48d0-99e2-f989c5090615' class='xr-var-data-in' type='checkbox'><label for='data-909dec2c-1bbe-48d0-99e2-f989c5090615' title='Show/Hide data repr'><svg class='icon xr-icon-database'><use xlink:href='#icon-database'></use></svg></label><div class='xr-var-attrs'><dl class='xr-attrs'><dt><span>standard_name :</span></dt><dd>time</dd><dt><span>long_name :</span></dt><dd>time</dd></dl></div><div class='xr-var-data'><pre>[366 values with dtype=datetime64[ns]]</pre></div></li></ul></div></li><li class='xr-section-item'><input id='section-3180701b-ddb8-4f58-918b-a9b46941866c' class='xr-section-summary-in' type='checkbox'  checked><label for='section-3180701b-ddb8-4f58-918b-a9b46941866c' class='xr-section-summary' >Data variables: <span>(1)</span></label><div class='xr-section-inline-details'></div><div class='xr-section-details'><ul class='xr-var-list'><li class='xr-var-item'><div class='xr-var-name'><span>dis24</span></div><div class='xr-var-dims'>(time, latitude, longitude)</div><div class='xr-var-dtype'>float32</div><div class='xr-var-preview xr-preview'>...</div><input id='attrs-944ac5a6-6981-4566-8b98-e45f8a5c867d' class='xr-var-attrs-in' type='checkbox' ><label for='attrs-944ac5a6-6981-4566-8b98-e45f8a5c867d' title='Show/Hide attributes'><svg class='icon xr-icon-file-text2'><use xlink:href='#icon-file-text2'></use></svg></label><input id='data-bd5af87d-9fd9-439e-a4b7-bd77512576c2' class='xr-var-data-in' type='checkbox'><label for='data-bd5af87d-9fd9-439e-a4b7-bd77512576c2' title='Show/Hide data repr'><svg class='icon xr-icon-database'><use xlink:href='#icon-database'></use></svg></label><div class='xr-var-attrs'><dl class='xr-attrs'><dt><span>GRIB_paramId :</span></dt><dd>240024</dd><dt><span>GRIB_dataType :</span></dt><dd>sfo</dd><dt><span>GRIB_numberOfPoints :</span></dt><dd>29784</dd><dt><span>GRIB_typeOfLevel :</span></dt><dd>surface</dd><dt><span>GRIB_stepUnits :</span></dt><dd>1</dd><dt><span>GRIB_stepType :</span></dt><dd>avg</dd><dt><span>GRIB_gridType :</span></dt><dd>regular_ll</dd><dt><span>GRIB_uvRelativeToGrid :</span></dt><dd>0</dd><dt><span>GRIB_NV :</span></dt><dd>0</dd><dt><span>GRIB_Nx :</span></dt><dd>146</dd><dt><span>GRIB_Ny :</span></dt><dd>204</dd><dt><span>GRIB_cfName :</span></dt><dd>unknown</dd><dt><span>GRIB_cfVarName :</span></dt><dd>dis24</dd><dt><span>GRIB_gridDefinitionDescription :</span></dt><dd>Latitude/longitude</dd><dt><span>GRIB_iDirectionIncrementInDegrees :</span></dt><dd>0.05</dd><dt><span>GRIB_iScansNegatively :</span></dt><dd>0</dd><dt><span>GRIB_jDirectionIncrementInDegrees :</span></dt><dd>0.05</dd><dt><span>GRIB_jPointsAreConsecutive :</span></dt><dd>0</dd><dt><span>GRIB_jScansPositively :</span></dt><dd>0</dd><dt><span>GRIB_latitudeOfFirstGridPointInDegrees :</span></dt><dd>5.475</dd><dt><span>GRIB_latitudeOfLastGridPointInDegrees :</span></dt><dd>-4.675</dd><dt><span>GRIB_longitudeOfFirstGridPointInDegrees :</span></dt><dd>33.925</dd><dt><span>GRIB_longitudeOfLastGridPointInDegrees :</span></dt><dd>41.175</dd><dt><span>GRIB_missingValue :</span></dt><dd>3.4028234663852886e+38</dd><dt><span>GRIB_name :</span></dt><dd>Mean discharge in the last 24 hours</dd><dt><span>GRIB_shortName :</span></dt><dd>dis24</dd><dt><span>GRIB_units :</span></dt><dd>m**3 s**-1</dd><dt><span>long_name :</span></dt><dd>Mean discharge in the last 24 hours</dd><dt><span>units :</span></dt><dd>m**3 s**-1</dd><dt><span>standard_name :</span></dt><dd>unknown</dd></dl></div><div class='xr-var-data'><pre>[10900944 values with dtype=float32]</pre></div></li></ul></div></li><li class='xr-section-item'><input id='section-8a2f900c-0009-4611-9adb-c4e80c513d71' class='xr-section-summary-in' type='checkbox'  ><label for='section-8a2f900c-0009-4611-9adb-c4e80c513d71' class='xr-section-summary' >Indexes: <span>(3)</span></label><div class='xr-section-inline-details'></div><div class='xr-section-details'><ul class='xr-var-list'><li class='xr-var-item'><div class='xr-index-name'><div>time</div></div><div class='xr-index-preview'>PandasIndex</div><input type='checkbox' disabled/><label></label><input id='index-c2c799a1-9f57-4a6d-9c52-2b1e13ce4ed9' class='xr-index-data-in' type='checkbox'/><label for='index-c2c799a1-9f57-4a6d-9c52-2b1e13ce4ed9' title='Show/Hide index repr'><svg class='icon xr-icon-database'><use xlink:href='#icon-database'></use></svg></label><div class='xr-index-data'><pre>PandasIndex(DatetimeIndex([&#x27;2024-01-01&#x27;, &#x27;2024-01-02&#x27;, &#x27;2024-01-03&#x27;, &#x27;2024-01-04&#x27;,\n",
       "               &#x27;2024-01-05&#x27;, &#x27;2024-01-06&#x27;, &#x27;2024-01-07&#x27;, &#x27;2024-01-08&#x27;,\n",
       "               &#x27;2024-01-09&#x27;, &#x27;2024-01-10&#x27;,\n",
       "               ...\n",
       "               &#x27;2024-12-22&#x27;, &#x27;2024-12-23&#x27;, &#x27;2024-12-24&#x27;, &#x27;2024-12-25&#x27;,\n",
       "               &#x27;2024-12-26&#x27;, &#x27;2024-12-27&#x27;, &#x27;2024-12-28&#x27;, &#x27;2024-12-29&#x27;,\n",
       "               &#x27;2024-12-30&#x27;, &#x27;2024-12-31&#x27;],\n",
       "              dtype=&#x27;datetime64[ns]&#x27;, name=&#x27;time&#x27;, length=366, freq=None))</pre></div></li><li class='xr-var-item'><div class='xr-index-name'><div>latitude</div></div><div class='xr-index-preview'>PandasIndex</div><input type='checkbox' disabled/><label></label><input id='index-0b1b9da2-d416-4940-a9a3-4f38b1b320ab' class='xr-index-data-in' type='checkbox'/><label for='index-0b1b9da2-d416-4940-a9a3-4f38b1b320ab' title='Show/Hide index repr'><svg class='icon xr-icon-database'><use xlink:href='#icon-database'></use></svg></label><div class='xr-index-data'><pre>PandasIndex(Index([              5.475,               5.425,               5.375,\n",
       "                     5.325,               5.275,  5.2250000000000005,\n",
       "         5.175000000000001,   5.125000000000001,   5.075000000000001,\n",
       "         5.025000000000001,\n",
       "       ...\n",
       "        -4.224999999999983,  -4.274999999999983,  -4.324999999999982,\n",
       "        -4.374999999999982,  -4.424999999999982,  -4.474999999999982,\n",
       "        -4.524999999999982, -4.5749999999999815,  -4.624999999999981,\n",
       "                    -4.675],\n",
       "      dtype=&#x27;float64&#x27;, name=&#x27;latitude&#x27;, length=204))</pre></div></li><li class='xr-var-item'><div class='xr-index-name'><div>longitude</div></div><div class='xr-index-preview'>PandasIndex</div><input type='checkbox' disabled/><label></label><input id='index-5196d0a8-1c02-4675-82e1-9f3d3ed3d1d1' class='xr-index-data-in' type='checkbox'/><label for='index-5196d0a8-1c02-4675-82e1-9f3d3ed3d1d1' title='Show/Hide index repr'><svg class='icon xr-icon-database'><use xlink:href='#icon-database'></use></svg></label><div class='xr-index-data'><pre>PandasIndex(Index([            33.925, 33.974999999999994,  34.02499999999999,\n",
       "        34.07499999999999, 34.124999999999986,  34.17499999999998,\n",
       "        34.22499999999998,  34.27499999999998, 34.324999999999974,\n",
       "        34.37499999999997,\n",
       "       ...\n",
       "        40.72499999999961,  40.77499999999961, 40.824999999999605,\n",
       "         40.8749999999996,   40.9249999999996, 40.974999999999596,\n",
       "       41.024999999999594,  41.07499999999959,  41.12499999999959,\n",
       "                   41.175],\n",
       "      dtype=&#x27;float64&#x27;, name=&#x27;longitude&#x27;, length=146))</pre></div></li></ul></div></li><li class='xr-section-item'><input id='section-9808bd38-5065-45c8-a986-a1da37f45d95' class='xr-section-summary-in' type='checkbox'  checked><label for='section-9808bd38-5065-45c8-a986-a1da37f45d95' class='xr-section-summary' >Attributes: <span>(7)</span></label><div class='xr-section-inline-details'></div><div class='xr-section-details'><dl class='xr-attrs'><dt><span>GRIB_edition :</span></dt><dd>2</dd><dt><span>GRIB_centre :</span></dt><dd>ecmf</dd><dt><span>GRIB_centreDescription :</span></dt><dd>European Centre for Medium-Range Weather Forecasts</dd><dt><span>GRIB_subCentre :</span></dt><dd>0</dd><dt><span>Conventions :</span></dt><dd>CF-1.7</dd><dt><span>institution :</span></dt><dd>European Centre for Medium-Range Weather Forecasts</dd><dt><span>history :</span></dt><dd>2025-03-13T12:00 GRIB to CDM+CF via cfgrib-0.9.15.0/ecCodes-2.39.0 with {&quot;source&quot;: &quot;..\\\\data\\\\methodology_1\\\\glofas-test.grib&quot;, &quot;filter_by_keys&quot;: {}, &quot;encode_cf&quot;: [&quot;parameter&quot;, &quot;time&quot;, &quot;geography&quot;, &quot;vertical&quot;]}</dd></dl></div></li></ul></div></div>"
      ],
      "text/plain": [
       "<xarray.Dataset> Size: 44MB\n",
       "Dimensions:     (time: 366, latitude: 204, longitude: 146)\n",
       "Coordinates:\n",
       "  * time        (time) datetime64[ns] 3kB 2024-01-01 2024-01-02 ... 2024-12-31\n",
       "    step        timedelta64[ns] 8B ...\n",
       "    surface     float64 8B ...\n",
       "  * latitude    (latitude) float64 2kB 5.475 5.425 5.375 ... -4.625 -4.675\n",
       "  * longitude   (longitude) float64 1kB 33.92 33.97 34.02 ... 41.07 41.12 41.17\n",
       "    valid_time  (time) datetime64[ns] 3kB ...\n",
       "Data variables:\n",
       "    dis24       (time, latitude, longitude) float32 44MB ...\n",
       "Attributes:\n",
       "    GRIB_edition:            2\n",
       "    GRIB_centre:             ecmf\n",
       "    GRIB_centreDescription:  European Centre for Medium-Range Weather Forecasts\n",
       "    GRIB_subCentre:          0\n",
       "    Conventions:             CF-1.7\n",
       "    institution:             European Centre for Medium-Range Weather Forecasts\n",
       "    history:                 2025-03-13T12:00 GRIB to CDM+CF via cfgrib-0.9.1..."
      ]
     },
     "execution_count": 9,
     "metadata": {},
     "output_type": "execute_result"
    }
   ],
   "source": [
    "glofas_data = xr.open_dataset(download_file, engine=\"cfgrib\")\n",
    "glofas_data"
   ]
  },
  {
   "cell_type": "code",
   "execution_count": 14,
   "id": "3988a3fa-5498-435e-a6c9-dc6e5cee3275",
   "metadata": {},
   "outputs": [],
   "source": [
    "# Create a simple plotting function that we can use throughout this notebook\n",
    "def plot_map(\n",
    "    plot_data,\n",
    "    title='',\n",
    "    cbar_label='',\n",
    "    cmap='PuBu',\n",
    "    extent=[33.9, 41.9, -4.7, 5.2],\n",
    "    **pcolorkwargs\n",
    "):\n",
    "    # Populate the title and cbar_label with attributes from the plot_data if they have not been\n",
    "    #  explicitly specified\n",
    "    title = title or plot_data.attrs.get('long_name', title)\n",
    "    cbar_label = cbar_label or plot_data.attrs.get('units', cbar_label)\n",
    "\n",
    "    # Create a figure with a cartopy projection assigned which allows plotting geospatial data\n",
    "    fig, ax = plt.subplots(\n",
    "        1, 1, figsize = (18, 9), subplot_kw={'projection': ccrs.PlateCarree()}\n",
    "    )\n",
    "\n",
    "    # Plot the data on our figure\n",
    "    im = ax.pcolormesh(\n",
    "        plot_data.longitude, plot_data.latitude, plot_data, cmap=cmap, **pcolorkwargs\n",
    "    )\n",
    "\n",
    "    # Add some additional features\n",
    "    ax.set_title(title, fontsize=16)\n",
    "    ax.gridlines(draw_labels=False, linewidth=1, color='gray', alpha=0.5, linestyle='--') \n",
    "    ax.coastlines(color='black')\n",
    "\n",
    "    # Add country borders in red\n",
    "    ax.add_feature(cfeature.BORDERS, edgecolor='black', lw=1.5, ls=\":\")\n",
    "\n",
    "    # Set the plot domain/extent\n",
    "    ax.set_extent(extent, crs=ccrs.PlateCarree())\n",
    "\n",
    "    # Add a colour bar\n",
    "    cbar = plt.colorbar(im,fraction=0.04, pad=0.01)\n",
    "    cbar.set_label(cbar_label, fontsize=12) "
   ]
  },
  {
   "cell_type": "code",
   "execution_count": 17,
   "id": "676323f5-fbb4-4cc7-9fa7-991f29611244",
   "metadata": {},
   "outputs": [
    {
     "data": {
      "image/png": "[encoded data removed]",
      "text/plain": [
       "<Figure size 1800x900 with 2 Axes>"
      ]
     },
     "metadata": {},
     "output_type": "display_data"
    }
   ],
   "source": [
    "mean_data = glofas_data.dis24.max(dim='time')\n",
    "mean_data = mean_data.assign_attrs(**glofas_data.dis24.attrs)\n",
    "plot_map(\n",
    "    mean_data,\n",
    "    vmax=4e3, vmin=0,\n",
    "    cbar_label = \"m³ s⁻¹\"\n",
    ")"
   ]
  },
  {
   "cell_type": "code",
   "execution_count": null,
   "id": "8ead179f-8074-485f-abca-80aa4bc16f12",
   "metadata": {},
   "outputs": [],
   "source": []
  }
 ],
 "metadata": {
  "kernelspec": {
   "display_name": "ews_scoping",
   "language": "python",
   "name": "ews_scoping"
  },
  "language_info": {
   "codemirror_mode": {
    "name": "ipython",
    "version": 3
   },
   "file_extension": ".py",
   "mimetype": "text/x-python",
   "name": "python",
   "nbconvert_exporter": "python",
   "pygments_lexer": "ipython3",
   "version": "3.13.2"
  }
 },
 "nbformat": 4,
 "nbformat_minor": 5
}
